{
 "cells": [
  {
   "cell_type": "code",
   "execution_count": null,
   "id": "9ae6ec22-358d-4456-a181-8171ab608303",
   "metadata": {},
   "outputs": [],
   "source": [
    "from selenium import webdriver\n",
    "from selenium.webdriver.chrome.service import Service\n",
    "from selenium.webdriver.chrome.options import Options\n",
    "from bs4 import BeautifulSoup\n",
    "import pandas as pd\n",
    "import time"
   ]
  },
  {
   "cell_type": "code",
   "execution_count": null,
   "id": "c2860378-a1c6-4f82-b392-de8d665a9046",
   "metadata": {},
   "outputs": [],
   "source": [
    "system_name = \"Nugali\"\n",
    "location = \"Brazil\"\n",
    "base_url = \"https://pvoutput.org/list.jsp?p={}&id=81007&sid=71881&gs=0&v=0&o=date&d=desc\"\n",
    "pages_to_scrape = 5"
   ]
  },
  {
   "cell_type": "code",
   "execution_count": null,
   "id": "7ef95d66-9eba-4ef9-b5c1-c7906caf822e",
   "metadata": {},
   "outputs": [],
   "source": [
    "options = Options()\n",
    "options.binary_location = r\"C:\\Program Files\\chrome for testing\\chrome-win64\\chrome.exe\"\n",
    "options.add_argument(\"--headless=new\")\n",
    "options.add_argument(\"--disable-gpu\")\n",
    "options.add_argument(\"--window-size=1920,1080\")\n",
    "options.add_argument(\"user-agent=Mozilla/5.0 (Windows NT 10.0; Win64; x64) AppleWebKit/537.36 (KHTML, like Gecko) Chrome/134.0.0.0 Safari/537.36\")\n",
    "service = Service(executable_path=r\"C:\\Program Files\\chrome for testing\\chrome-win64\\chromedriver.exe\")\n",
    "driver = webdriver.Chrome(service=service, options=options)"
   ]
  },
  {
   "cell_type": "code",
   "execution_count": null,
   "id": "955359a5-bc31-416c-979a-ed71a983eb4d",
   "metadata": {},
   "outputs": [],
   "source": [
    "all_data = []\n",
    "\n",
    "for page in range(pages_to_scrape):\n",
    "    url = base_url.format(page)\n",
    "    print(f\"📄 Scraping page {page + 1} from: {url}\")\n",
    "    \n",
    "    try:\n",
    "        driver.get(url)\n",
    "        time.sleep(6)\n",
    "        soup = BeautifulSoup(driver.page_source, \"html.parser\")\n",
    "        table = soup.find(\"table\", id=\"tbl_main\")\n",
    "\n",
    "        if not table:\n",
    "            print(f\"⚠️ No table found on page {page + 1}. Retrying once...\")\n",
    "            time.sleep(5)\n",
    "            driver.get(url)\n",
    "            soup = BeautifulSoup(driver.page_source, \"html.parser\")\n",
    "            table = soup.find(\"table\", id=\"tbl_main\")\n",
    "\n",
    "        if table:\n",
    "            rows = table.find_all(\"tr\")[1:]\n",
    "            for row in rows:\n",
    "                cols = [td.get_text(strip=True).replace(',', '') for td in row.find_all(\"td\")]\n",
    "                if len(cols) >= 9:\n",
    "                    cols.append(system_name)\n",
    "                    cols.append(location)\n",
    "                    all_data.append(cols)\n",
    "        else:\n",
    "            print(f\"❌ Failed again: No table found on page {page + 1}\")\n",
    "    except Exception as e:\n",
    "        print(f\"🚨 Error scraping page {page + 1}: {e}\")\n",
    "\n",
    "driver.quit()"
   ]
  },
  {
   "cell_type": "code",
   "execution_count": null,
   "id": "887d51f7-8d44-4937-9a83-ff558e4e4d61",
   "metadata": {},
   "outputs": [],
   "source": [
    "header = [\n",
    "    \"Date\", \"Generated\", \"Efficiency\", \"Exported\", \"Peak Power\",\n",
    "    \"Peak Time\", \"Conditions\", \"Temperature\", \"Comments\",\n",
    "    \"System Name\", \"Location\"\n",
    "]"
   ]
  },
  {
   "cell_type": "code",
   "execution_count": null,
   "id": "bf4287aa-83a2-4de7-862e-ba30313277d4",
   "metadata": {},
   "outputs": [],
   "source": [
    "df = pd.DataFrame(all_data, columns=header)\n",
    "df.drop(columns=[\"Exported\", \"Temperature\", \"Comments\", \"Peak Power\", \"Peak Time\", \"Conditions\"], inplace=True)\n",
    "print(df.head())"
   ]
  },
  {
   "cell_type": "code",
   "execution_count": null,
   "id": "644d8af4-a263-4bd1-bce5-36197e614adc",
   "metadata": {},
   "outputs": [],
   "source": [
    "page6 = pd.read_csv(\"Nugali_page6.csv\")\n",
    "page7 = pd.read_csv(\"Nugali_page7.csv\")\n",
    "page8 = pd.read_csv(\"Nugali_page8.csv\")\n",
    "page9 = pd.read_csv(\"Nugali_page9.csv\")\n",
    "page10 = pd.read_csv(\"Nugali_page10.csv\")"
   ]
  },
  {
   "cell_type": "code",
   "execution_count": null,
   "id": "546073aa-4ec5-40ae-a3b4-821eb98024cd",
   "metadata": {},
   "outputs": [],
   "source": [
    "page6[\"System Name\"] = \"Nugali\"\n",
    "page6[\"Location\"] = \"Brazil\"\n",
    "page7[\"System Name\"] = \"Nugali\"\n",
    "page7[\"Location\"] = \"Brazil\"\n",
    "page8[\"System Name\"] = \"Nugali\"\n",
    "page8[\"Location\"] = \"Brazil\"\n",
    "page9[\"System Name\"] = \"Nugali\"\n",
    "page9[\"Location\"] = \"Brazil\"\n",
    "page10[\"System Name\"] = \"Nugali\"\n",
    "page10[\"Location\"] = \"Brazil\""
   ]
  },
  {
   "cell_type": "code",
   "execution_count": null,
   "id": "f6d0c5f0-5594-4738-8254-e0e3c0075a8f",
   "metadata": {},
   "outputs": [],
   "source": [
    "master_df = pd.concat([df, page6, page7, page8, page9, page10], ignore_index=True)"
   ]
  },
  {
   "cell_type": "code",
   "execution_count": null,
   "id": "5243036c-ec7c-4444-b014-8b45f4a7c9bb",
   "metadata": {},
   "outputs": [],
   "source": [
    "master_df"
   ]
  },
  {
   "cell_type": "code",
   "execution_count": null,
   "id": "a9f40ca2-9ddf-462b-980f-c40b046f0bf2",
   "metadata": {},
   "outputs": [],
   "source": [
    "master_df[\"System Size (kW)\"] = 108"
   ]
  },
  {
   "cell_type": "code",
   "execution_count": null,
   "id": "9012b033-148d-41b9-b47b-a340f8fbbc7b",
   "metadata": {},
   "outputs": [],
   "source": [
    "master_df.to_csv(\"daily_Nugali_master.csv\", index=False)"
   ]
  }
 ],
 "metadata": {
  "kernelspec": {
   "display_name": "Python [conda env:base] *",
   "language": "python",
   "name": "conda-base-py"
  },
  "language_info": {
   "codemirror_mode": {
    "name": "ipython",
    "version": 3
   },
   "file_extension": ".py",
   "mimetype": "text/x-python",
   "name": "python",
   "nbconvert_exporter": "python",
   "pygments_lexer": "ipython3",
   "version": "3.12.7"
  }
 },
 "nbformat": 4,
 "nbformat_minor": 5
}
