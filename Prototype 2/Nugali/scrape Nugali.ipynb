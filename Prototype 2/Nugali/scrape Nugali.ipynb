{
 "cells": [
  {
   "cell_type": "code",
   "execution_count": 1,
   "id": "9ae6ec22-358d-4456-a181-8171ab608303",
   "metadata": {},
   "outputs": [],
   "source": [
    "from selenium import webdriver\n",
    "from selenium.webdriver.chrome.service import Service\n",
    "from selenium.webdriver.chrome.options import Options\n",
    "from bs4 import BeautifulSoup\n",
    "import pandas as pd\n",
    "import time"
   ]
  },
  {
   "cell_type": "code",
   "execution_count": 2,
   "id": "c2860378-a1c6-4f82-b392-de8d665a9046",
   "metadata": {},
   "outputs": [],
   "source": [
    "system_name = \"Nugali\"\n",
    "location = \"Brazil\"\n",
    "base_url = \"https://pvoutput.org/list.jsp?p={}&id=81007&sid=71881&gs=0&v=0&o=date&d=desc\"\n",
    "pages_to_scrape = 5"
   ]
  },
  {
   "cell_type": "code",
   "execution_count": 3,
   "id": "7ef95d66-9eba-4ef9-b5c1-c7906caf822e",
   "metadata": {},
   "outputs": [],
   "source": [
    "options = Options()\n",
    "options.binary_location = r\"C:\\Program Files\\chrome for testing\\chrome-win64\\chrome.exe\"\n",
    "options.add_argument(\"--headless=new\")\n",
    "options.add_argument(\"--disable-gpu\")\n",
    "options.add_argument(\"--window-size=1920,1080\")\n",
    "options.add_argument(\"user-agent=Mozilla/5.0 (Windows NT 10.0; Win64; x64) AppleWebKit/537.36 (KHTML, like Gecko) Chrome/134.0.0.0 Safari/537.36\")\n",
    "service = Service(executable_path=r\"C:\\Program Files\\chrome for testing\\chrome-win64\\chromedriver.exe\")\n",
    "driver = webdriver.Chrome(service=service, options=options)"
   ]
  },
  {
   "cell_type": "code",
   "execution_count": 4,
   "id": "955359a5-bc31-416c-979a-ed71a983eb4d",
   "metadata": {},
   "outputs": [
    {
     "name": "stdout",
     "output_type": "stream",
     "text": [
      "📄 Scraping page 1 from: https://pvoutput.org/list.jsp?p=0&id=81007&sid=71881&gs=0&v=0&o=date&d=desc\n",
      "📄 Scraping page 2 from: https://pvoutput.org/list.jsp?p=1&id=81007&sid=71881&gs=0&v=0&o=date&d=desc\n",
      "📄 Scraping page 3 from: https://pvoutput.org/list.jsp?p=2&id=81007&sid=71881&gs=0&v=0&o=date&d=desc\n",
      "📄 Scraping page 4 from: https://pvoutput.org/list.jsp?p=3&id=81007&sid=71881&gs=0&v=0&o=date&d=desc\n",
      "📄 Scraping page 5 from: https://pvoutput.org/list.jsp?p=4&id=81007&sid=71881&gs=0&v=0&o=date&d=desc\n"
     ]
    }
   ],
   "source": [
    "all_data = []\n",
    "\n",
    "for page in range(pages_to_scrape):\n",
    "    url = base_url.format(page)\n",
    "    print(f\"📄 Scraping page {page + 1} from: {url}\")\n",
    "    \n",
    "    try:\n",
    "        driver.get(url)\n",
    "        time.sleep(6)\n",
    "        soup = BeautifulSoup(driver.page_source, \"html.parser\")\n",
    "        table = soup.find(\"table\", id=\"tbl_main\")\n",
    "\n",
    "        if not table:\n",
    "            print(f\"⚠️ No table found on page {page + 1}. Retrying once...\")\n",
    "            time.sleep(5)\n",
    "            driver.get(url)\n",
    "            soup = BeautifulSoup(driver.page_source, \"html.parser\")\n",
    "            table = soup.find(\"table\", id=\"tbl_main\")\n",
    "\n",
    "        if table:\n",
    "            rows = table.find_all(\"tr\")[1:]\n",
    "            for row in rows:\n",
    "                cols = [td.get_text(strip=True).replace(',', '') for td in row.find_all(\"td\")]\n",
    "                if len(cols) >= 9:\n",
    "                    cols.append(system_name)\n",
    "                    cols.append(location)\n",
    "                    all_data.append(cols)\n",
    "        else:\n",
    "            print(f\"❌ Failed again: No table found on page {page + 1}\")\n",
    "    except Exception as e:\n",
    "        print(f\"🚨 Error scraping page {page + 1}: {e}\")\n",
    "\n",
    "driver.quit()"
   ]
  },
  {
   "cell_type": "code",
   "execution_count": 5,
   "id": "887d51f7-8d44-4937-9a83-ff558e4e4d61",
   "metadata": {},
   "outputs": [],
   "source": [
    "header = [\n",
    "    \"Date\", \"Generated\", \"Efficiency\", \"Exported\", \"Peak Power\",\n",
    "    \"Peak Time\", \"Conditions\", \"Temperature\", \"Comments\",\n",
    "    \"System Name\", \"Location\"\n",
    "]"
   ]
  },
  {
   "cell_type": "code",
   "execution_count": 6,
   "id": "bf4287aa-83a2-4de7-862e-ba30313277d4",
   "metadata": {},
   "outputs": [
    {
     "name": "stdout",
     "output_type": "stream",
     "text": [
      "       Date   Generated   Efficiency System Name Location\n",
      "0  30/03/25  397.934kWh  3.685kWh/kW      Nugali   Brazil\n",
      "1  29/03/25  440.045kWh  4.074kWh/kW      Nugali   Brazil\n",
      "2  28/03/25  417.938kWh  3.870kWh/kW      Nugali   Brazil\n",
      "3  27/03/25  410.776kWh  3.803kWh/kW      Nugali   Brazil\n",
      "4  26/03/25  225.893kWh  2.092kWh/kW      Nugali   Brazil\n"
     ]
    }
   ],
   "source": [
    "df = pd.DataFrame(all_data, columns=header)\n",
    "df.drop(columns=[\"Exported\", \"Temperature\", \"Comments\", \"Peak Power\", \"Peak Time\", \"Conditions\"], inplace=True)\n",
    "print(df.head())"
   ]
  },
  {
   "cell_type": "code",
   "execution_count": 7,
   "id": "644d8af4-a263-4bd1-bce5-36197e614adc",
   "metadata": {},
   "outputs": [],
   "source": [
    "page6 = pd.read_csv(\"Nugali_page6.csv\")\n",
    "page7 = pd.read_csv(\"Nugali_page7.csv\")\n",
    "page8 = pd.read_csv(\"Nugali_page8.csv\")\n",
    "page9 = pd.read_csv(\"Nugali_page9.csv\")\n",
    "page10 = pd.read_csv(\"Nugali_page10.csv\")"
   ]
  },
  {
   "cell_type": "code",
   "execution_count": 8,
   "id": "546073aa-4ec5-40ae-a3b4-821eb98024cd",
   "metadata": {},
   "outputs": [],
   "source": [
    "page6[\"System Name\"] = \"Nugali\"\n",
    "page6[\"Location\"] = \"Brazil\"\n",
    "page7[\"System Name\"] = \"Nugali\"\n",
    "page7[\"Location\"] = \"Brazil\"\n",
    "page8[\"System Name\"] = \"Nugali\"\n",
    "page8[\"Location\"] = \"Brazil\"\n",
    "page9[\"System Name\"] = \"Nugali\"\n",
    "page9[\"Location\"] = \"Brazil\"\n",
    "page10[\"System Name\"] = \"Nugali\"\n",
    "page10[\"Location\"] = \"Brazil\""
   ]
  },
  {
   "cell_type": "code",
   "execution_count": 9,
   "id": "f6d0c5f0-5594-4738-8254-e0e3c0075a8f",
   "metadata": {},
   "outputs": [],
   "source": [
    "master_df = pd.concat([df, page6, page7, page8, page9, page10], ignore_index=True)"
   ]
  },
  {
   "cell_type": "code",
   "execution_count": 10,
   "id": "5243036c-ec7c-4444-b014-8b45f4a7c9bb",
   "metadata": {},
   "outputs": [
    {
     "data": {
      "text/html": [
       "<div>\n",
       "<style scoped>\n",
       "    .dataframe tbody tr th:only-of-type {\n",
       "        vertical-align: middle;\n",
       "    }\n",
       "\n",
       "    .dataframe tbody tr th {\n",
       "        vertical-align: top;\n",
       "    }\n",
       "\n",
       "    .dataframe thead th {\n",
       "        text-align: right;\n",
       "    }\n",
       "</style>\n",
       "<table border=\"1\" class=\"dataframe\">\n",
       "  <thead>\n",
       "    <tr style=\"text-align: right;\">\n",
       "      <th></th>\n",
       "      <th>Date</th>\n",
       "      <th>Generated</th>\n",
       "      <th>Efficiency</th>\n",
       "      <th>System Name</th>\n",
       "      <th>Location</th>\n",
       "    </tr>\n",
       "  </thead>\n",
       "  <tbody>\n",
       "    <tr>\n",
       "      <th>0</th>\n",
       "      <td>30/03/25</td>\n",
       "      <td>397.934kWh</td>\n",
       "      <td>3.685kWh/kW</td>\n",
       "      <td>Nugali</td>\n",
       "      <td>Brazil</td>\n",
       "    </tr>\n",
       "    <tr>\n",
       "      <th>1</th>\n",
       "      <td>29/03/25</td>\n",
       "      <td>440.045kWh</td>\n",
       "      <td>4.074kWh/kW</td>\n",
       "      <td>Nugali</td>\n",
       "      <td>Brazil</td>\n",
       "    </tr>\n",
       "    <tr>\n",
       "      <th>2</th>\n",
       "      <td>28/03/25</td>\n",
       "      <td>417.938kWh</td>\n",
       "      <td>3.870kWh/kW</td>\n",
       "      <td>Nugali</td>\n",
       "      <td>Brazil</td>\n",
       "    </tr>\n",
       "    <tr>\n",
       "      <th>3</th>\n",
       "      <td>27/03/25</td>\n",
       "      <td>410.776kWh</td>\n",
       "      <td>3.803kWh/kW</td>\n",
       "      <td>Nugali</td>\n",
       "      <td>Brazil</td>\n",
       "    </tr>\n",
       "    <tr>\n",
       "      <th>4</th>\n",
       "      <td>26/03/25</td>\n",
       "      <td>225.893kWh</td>\n",
       "      <td>2.092kWh/kW</td>\n",
       "      <td>Nugali</td>\n",
       "      <td>Brazil</td>\n",
       "    </tr>\n",
       "    <tr>\n",
       "      <th>...</th>\n",
       "      <td>...</td>\n",
       "      <td>...</td>\n",
       "      <td>...</td>\n",
       "      <td>...</td>\n",
       "      <td>...</td>\n",
       "    </tr>\n",
       "    <tr>\n",
       "      <th>394</th>\n",
       "      <td>2/26/2024</td>\n",
       "      <td>253.094</td>\n",
       "      <td>2.343463</td>\n",
       "      <td>Nugali</td>\n",
       "      <td>Brazil</td>\n",
       "    </tr>\n",
       "    <tr>\n",
       "      <th>395</th>\n",
       "      <td>2/25/2024</td>\n",
       "      <td>134.42</td>\n",
       "      <td>1.24463</td>\n",
       "      <td>Nugali</td>\n",
       "      <td>Brazil</td>\n",
       "    </tr>\n",
       "    <tr>\n",
       "      <th>396</th>\n",
       "      <td>2/24/2024</td>\n",
       "      <td>476.083</td>\n",
       "      <td>4.408176</td>\n",
       "      <td>Nugali</td>\n",
       "      <td>Brazil</td>\n",
       "    </tr>\n",
       "    <tr>\n",
       "      <th>397</th>\n",
       "      <td>2/23/2024</td>\n",
       "      <td>572.466</td>\n",
       "      <td>5.300611</td>\n",
       "      <td>Nugali</td>\n",
       "      <td>Brazil</td>\n",
       "    </tr>\n",
       "    <tr>\n",
       "      <th>398</th>\n",
       "      <td>2/22/2024</td>\n",
       "      <td>423.541</td>\n",
       "      <td>3.921676</td>\n",
       "      <td>Nugali</td>\n",
       "      <td>Brazil</td>\n",
       "    </tr>\n",
       "  </tbody>\n",
       "</table>\n",
       "<p>399 rows × 5 columns</p>\n",
       "</div>"
      ],
      "text/plain": [
       "          Date   Generated   Efficiency System Name Location\n",
       "0     30/03/25  397.934kWh  3.685kWh/kW      Nugali   Brazil\n",
       "1     29/03/25  440.045kWh  4.074kWh/kW      Nugali   Brazil\n",
       "2     28/03/25  417.938kWh  3.870kWh/kW      Nugali   Brazil\n",
       "3     27/03/25  410.776kWh  3.803kWh/kW      Nugali   Brazil\n",
       "4     26/03/25  225.893kWh  2.092kWh/kW      Nugali   Brazil\n",
       "..         ...         ...          ...         ...      ...\n",
       "394  2/26/2024     253.094     2.343463      Nugali   Brazil\n",
       "395  2/25/2024      134.42      1.24463      Nugali   Brazil\n",
       "396  2/24/2024     476.083     4.408176      Nugali   Brazil\n",
       "397  2/23/2024     572.466     5.300611      Nugali   Brazil\n",
       "398  2/22/2024     423.541     3.921676      Nugali   Brazil\n",
       "\n",
       "[399 rows x 5 columns]"
      ]
     },
     "execution_count": 10,
     "metadata": {},
     "output_type": "execute_result"
    }
   ],
   "source": [
    "master_df"
   ]
  },
  {
   "cell_type": "code",
   "execution_count": 11,
   "id": "a9f40ca2-9ddf-462b-980f-c40b046f0bf2",
   "metadata": {},
   "outputs": [],
   "source": [
    "master_df[\"System Size (kW)\"] = 108"
   ]
  },
  {
   "cell_type": "code",
   "execution_count": 12,
   "id": "9012b033-148d-41b9-b47b-a340f8fbbc7b",
   "metadata": {},
   "outputs": [],
   "source": [
    "master_df.to_csv(\"daily_Nugali_master.csv\", index=False)"
   ]
  }
 ],
 "metadata": {
  "kernelspec": {
   "display_name": "Python [conda env:base] *",
   "language": "python",
   "name": "conda-base-py"
  },
  "language_info": {
   "codemirror_mode": {
    "name": "ipython",
    "version": 3
   },
   "file_extension": ".py",
   "mimetype": "text/x-python",
   "name": "python",
   "nbconvert_exporter": "python",
   "pygments_lexer": "ipython3",
   "version": "3.12.7"
  }
 },
 "nbformat": 4,
 "nbformat_minor": 5
}
