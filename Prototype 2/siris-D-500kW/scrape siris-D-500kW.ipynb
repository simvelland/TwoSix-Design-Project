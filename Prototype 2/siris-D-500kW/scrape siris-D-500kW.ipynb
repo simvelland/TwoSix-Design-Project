{
 "cells": [
  {
   "cell_type": "code",
   "execution_count": 1,
   "id": "a6f77bee-2daf-4b07-abb1-ad94a60b6d4c",
   "metadata": {},
   "outputs": [],
   "source": [
    "from selenium import webdriver\n",
    "from selenium.webdriver.chrome.service import Service\n",
    "from selenium.webdriver.chrome.options import Options\n",
    "from bs4 import BeautifulSoup\n",
    "import pandas as pd\n",
    "import time"
   ]
  },
  {
   "cell_type": "code",
   "execution_count": 2,
   "id": "60662676-4eb4-47c3-8341-0b1a5312eeaa",
   "metadata": {},
   "outputs": [],
   "source": [
    "system_name = \"siris-D-500kW\"\n",
    "location = \"Greece\"\n",
    "base_url = \"https://pvoutput.org/list.jsp?p={}&id=84471&sid=90854&gs=0&v=0&o=date&d=desc\"\n",
    "pages_to_scrape = 5"
   ]
  },
  {
   "cell_type": "code",
   "execution_count": 3,
   "id": "5423c1f1-1bae-495e-a1a6-5fc660451680",
   "metadata": {},
   "outputs": [],
   "source": [
    "options = Options()\n",
    "options.binary_location = r\"C:\\Program Files\\chrome for testing\\chrome-win64\\chrome.exe\"\n",
    "options.add_argument(\"--headless=new\")\n",
    "options.add_argument(\"--disable-gpu\")\n",
    "options.add_argument(\"--window-size=1920,1080\")\n",
    "options.add_argument(\"user-agent=Mozilla/5.0 (Windows NT 10.0; Win64; x64) AppleWebKit/537.36 (KHTML, like Gecko) Chrome/134.0.0.0 Safari/537.36\")\n",
    "service = Service(executable_path=r\"C:\\Program Files\\chrome for testing\\chrome-win64\\chromedriver.exe\")\n",
    "driver = webdriver.Chrome(service=service, options=options)"
   ]
  },
  {
   "cell_type": "code",
   "execution_count": 4,
   "id": "5e18df40-512e-4664-b543-1d3adbe2978c",
   "metadata": {},
   "outputs": [
    {
     "name": "stdout",
     "output_type": "stream",
     "text": [
      "📄 Scraping page 1 from: https://pvoutput.org/list.jsp?p=0&id=84471&sid=90854&gs=0&v=0&o=date&d=desc\n",
      "📄 Scraping page 2 from: https://pvoutput.org/list.jsp?p=1&id=84471&sid=90854&gs=0&v=0&o=date&d=desc\n",
      "📄 Scraping page 3 from: https://pvoutput.org/list.jsp?p=2&id=84471&sid=90854&gs=0&v=0&o=date&d=desc\n",
      "📄 Scraping page 4 from: https://pvoutput.org/list.jsp?p=3&id=84471&sid=90854&gs=0&v=0&o=date&d=desc\n",
      "📄 Scraping page 5 from: https://pvoutput.org/list.jsp?p=4&id=84471&sid=90854&gs=0&v=0&o=date&d=desc\n"
     ]
    }
   ],
   "source": [
    "all_data = []\n",
    "\n",
    "for page in range(pages_to_scrape):\n",
    "    url = base_url.format(page)\n",
    "    print(f\"📄 Scraping page {page + 1} from: {url}\")\n",
    "    \n",
    "    try:\n",
    "        driver.get(url)\n",
    "        time.sleep(6)\n",
    "        soup = BeautifulSoup(driver.page_source, \"html.parser\")\n",
    "        table = soup.find(\"table\", id=\"tbl_main\")\n",
    "\n",
    "        if not table:\n",
    "            print(f\"⚠️ No table found on page {page + 1}. Retrying once...\")\n",
    "            time.sleep(5)\n",
    "            driver.get(url)\n",
    "            soup = BeautifulSoup(driver.page_source, \"html.parser\")\n",
    "            table = soup.find(\"table\", id=\"tbl_main\")\n",
    "\n",
    "        if table:\n",
    "            rows = table.find_all(\"tr\")[1:]\n",
    "            for row in rows:\n",
    "                cols = [td.get_text(strip=True).replace(',', '') for td in row.find_all(\"td\")]\n",
    "                if len(cols) >= 9:\n",
    "                    cols.append(system_name)\n",
    "                    cols.append(location)\n",
    "                    all_data.append(cols)\n",
    "        else:\n",
    "            print(f\"❌ Failed again: No table found on page {page + 1}\")\n",
    "    except Exception as e:\n",
    "        print(f\"🚨 Error scraping page {page + 1}: {e}\")\n",
    "\n",
    "driver.quit()"
   ]
  },
  {
   "cell_type": "code",
   "execution_count": 5,
   "id": "ece1fc76-9a3f-442a-a84a-f418ea261f89",
   "metadata": {},
   "outputs": [],
   "source": [
    "header = [\n",
    "    \"Date\", \"Generated\", \"Efficiency\", \"Exported\", \"Peak Power\",\n",
    "    \"Peak Time\", \"Conditions\", \"Temperature\", \"Comments\",\n",
    "    \"System Name\", \"Location\"\n",
    "]"
   ]
  },
  {
   "cell_type": "code",
   "execution_count": 24,
   "id": "29c4e967-414b-4f84-9fc4-7b8313764d46",
   "metadata": {},
   "outputs": [
    {
     "name": "stdout",
     "output_type": "stream",
     "text": [
      "       Date    Generated   Efficiency    System Name Location\n",
      "0  31/03/25     0.000kWh  0.000kWh/kW  siris-D-500kW   Greece\n",
      "1  30/03/25  1681.506kWh  3.316kWh/kW  siris-D-500kW   Greece\n",
      "2  29/03/25   598.146kWh  1.180kWh/kW  siris-D-500kW   Greece\n",
      "3  28/03/25  1775.921kWh  3.502kWh/kW  siris-D-500kW   Greece\n",
      "4  27/03/25  1866.433kWh  3.681kWh/kW  siris-D-500kW   Greece\n"
     ]
    }
   ],
   "source": [
    "df = pd.DataFrame(all_data, columns=header)\n",
    "df.drop(columns=[\"Exported\", \"Temperature\", \"Comments\", \"Peak Power\", \"Peak Time\", \"Conditions\"], inplace=True)\n",
    "print(df.head())"
   ]
  },
  {
   "cell_type": "code",
   "execution_count": 26,
   "id": "db032bcb-621d-4e5e-8741-5caf81fddcc7",
   "metadata": {},
   "outputs": [],
   "source": [
    "page6 = pd.read_csv(\"siris-D_page6.csv\")\n",
    "page7 = pd.read_csv(\"siris-D_page7.csv\")\n",
    "page8 = pd.read_csv(\"siris-D_page8.csv\")\n",
    "page9 = pd.read_csv(\"siris-D_page9.csv\")\n",
    "page10 = pd.read_csv(\"siris-D_page10.csv\")"
   ]
  },
  {
   "cell_type": "code",
   "execution_count": 28,
   "id": "f28515d3-ede4-4f13-8656-cf26d5b337fc",
   "metadata": {},
   "outputs": [],
   "source": [
    "page6[\"System Name\"] = \"siris-D-500kW\"\n",
    "page6[\"Location\"] = \"Greece\"\n",
    "page7[\"System Name\"] = \"siris-D-500kW\"\n",
    "page7[\"Location\"] = \"Greece\"\n",
    "page8[\"System Name\"] = \"siris-D-500kW\"\n",
    "page8[\"Location\"] = \"Greece\"\n",
    "page9[\"System Name\"] = \"siris-D-500kW\"\n",
    "page9[\"Location\"] = \"Greece\"\n",
    "page10[\"System Name\"] = \"siris-D-500kW\"\n",
    "page10[\"Location\"] = \"Greece\""
   ]
  },
  {
   "cell_type": "code",
   "execution_count": 30,
   "id": "97a0dd10-0d4f-4e66-9a80-ae30b451c8d3",
   "metadata": {
    "scrolled": true
   },
   "outputs": [
    {
     "data": {
      "text/html": [
       "<div>\n",
       "<style scoped>\n",
       "    .dataframe tbody tr th:only-of-type {\n",
       "        vertical-align: middle;\n",
       "    }\n",
       "\n",
       "    .dataframe tbody tr th {\n",
       "        vertical-align: top;\n",
       "    }\n",
       "\n",
       "    .dataframe thead th {\n",
       "        text-align: right;\n",
       "    }\n",
       "</style>\n",
       "<table border=\"1\" class=\"dataframe\">\n",
       "  <thead>\n",
       "    <tr style=\"text-align: right;\">\n",
       "      <th></th>\n",
       "      <th>Date</th>\n",
       "      <th>Generated</th>\n",
       "      <th>Efficiency</th>\n",
       "      <th>System Name</th>\n",
       "      <th>Location</th>\n",
       "      <th>Unnamed: 2</th>\n",
       "    </tr>\n",
       "  </thead>\n",
       "  <tbody>\n",
       "    <tr>\n",
       "      <th>0</th>\n",
       "      <td>31/03/25</td>\n",
       "      <td>0.000kWh</td>\n",
       "      <td>0.000kWh/kW</td>\n",
       "      <td>siris-D-500kW</td>\n",
       "      <td>Greece</td>\n",
       "      <td>NaN</td>\n",
       "    </tr>\n",
       "    <tr>\n",
       "      <th>1</th>\n",
       "      <td>30/03/25</td>\n",
       "      <td>1681.506kWh</td>\n",
       "      <td>3.316kWh/kW</td>\n",
       "      <td>siris-D-500kW</td>\n",
       "      <td>Greece</td>\n",
       "      <td>NaN</td>\n",
       "    </tr>\n",
       "    <tr>\n",
       "      <th>2</th>\n",
       "      <td>29/03/25</td>\n",
       "      <td>598.146kWh</td>\n",
       "      <td>1.180kWh/kW</td>\n",
       "      <td>siris-D-500kW</td>\n",
       "      <td>Greece</td>\n",
       "      <td>NaN</td>\n",
       "    </tr>\n",
       "    <tr>\n",
       "      <th>3</th>\n",
       "      <td>28/03/25</td>\n",
       "      <td>1775.921kWh</td>\n",
       "      <td>3.502kWh/kW</td>\n",
       "      <td>siris-D-500kW</td>\n",
       "      <td>Greece</td>\n",
       "      <td>NaN</td>\n",
       "    </tr>\n",
       "    <tr>\n",
       "      <th>4</th>\n",
       "      <td>27/03/25</td>\n",
       "      <td>1866.433kWh</td>\n",
       "      <td>3.681kWh/kW</td>\n",
       "      <td>siris-D-500kW</td>\n",
       "      <td>Greece</td>\n",
       "      <td>NaN</td>\n",
       "    </tr>\n",
       "    <tr>\n",
       "      <th>...</th>\n",
       "      <td>...</td>\n",
       "      <td>...</td>\n",
       "      <td>...</td>\n",
       "      <td>...</td>\n",
       "      <td>...</td>\n",
       "      <td>...</td>\n",
       "    </tr>\n",
       "    <tr>\n",
       "      <th>395</th>\n",
       "      <td>2/27/2024</td>\n",
       "      <td>2627.272kWh</td>\n",
       "      <td>5.180974</td>\n",
       "      <td>siris-D-500kW</td>\n",
       "      <td>Greece</td>\n",
       "      <td>NaN</td>\n",
       "    </tr>\n",
       "    <tr>\n",
       "      <th>396</th>\n",
       "      <td>2/26/2024</td>\n",
       "      <td>787.898kWh</td>\n",
       "      <td>1.553733</td>\n",
       "      <td>siris-D-500kW</td>\n",
       "      <td>Greece</td>\n",
       "      <td>NaN</td>\n",
       "    </tr>\n",
       "    <tr>\n",
       "      <th>397</th>\n",
       "      <td>2/25/2024</td>\n",
       "      <td>1006.772kWh</td>\n",
       "      <td>1.985352</td>\n",
       "      <td>siris-D-500kW</td>\n",
       "      <td>Greece</td>\n",
       "      <td>NaN</td>\n",
       "    </tr>\n",
       "    <tr>\n",
       "      <th>398</th>\n",
       "      <td>2/24/2024</td>\n",
       "      <td>2564.958kWh</td>\n",
       "      <td>5.058091</td>\n",
       "      <td>siris-D-500kW</td>\n",
       "      <td>Greece</td>\n",
       "      <td>NaN</td>\n",
       "    </tr>\n",
       "    <tr>\n",
       "      <th>399</th>\n",
       "      <td>2/23/2024</td>\n",
       "      <td>2101.483kWh</td>\n",
       "      <td>4.14412</td>\n",
       "      <td>siris-D-500kW</td>\n",
       "      <td>Greece</td>\n",
       "      <td>NaN</td>\n",
       "    </tr>\n",
       "  </tbody>\n",
       "</table>\n",
       "<p>400 rows × 6 columns</p>\n",
       "</div>"
      ],
      "text/plain": [
       "          Date    Generated   Efficiency    System Name Location  Unnamed: 2\n",
       "0     31/03/25     0.000kWh  0.000kWh/kW  siris-D-500kW   Greece         NaN\n",
       "1     30/03/25  1681.506kWh  3.316kWh/kW  siris-D-500kW   Greece         NaN\n",
       "2     29/03/25   598.146kWh  1.180kWh/kW  siris-D-500kW   Greece         NaN\n",
       "3     28/03/25  1775.921kWh  3.502kWh/kW  siris-D-500kW   Greece         NaN\n",
       "4     27/03/25  1866.433kWh  3.681kWh/kW  siris-D-500kW   Greece         NaN\n",
       "..         ...          ...          ...            ...      ...         ...\n",
       "395  2/27/2024  2627.272kWh     5.180974  siris-D-500kW   Greece         NaN\n",
       "396  2/26/2024   787.898kWh     1.553733  siris-D-500kW   Greece         NaN\n",
       "397  2/25/2024  1006.772kWh     1.985352  siris-D-500kW   Greece         NaN\n",
       "398  2/24/2024  2564.958kWh     5.058091  siris-D-500kW   Greece         NaN\n",
       "399  2/23/2024  2101.483kWh      4.14412  siris-D-500kW   Greece         NaN\n",
       "\n",
       "[400 rows x 6 columns]"
      ]
     },
     "execution_count": 30,
     "metadata": {},
     "output_type": "execute_result"
    }
   ],
   "source": [
    "master_df = pd.concat([df, page6, page7, page8, page9, page10], ignore_index=True)\n",
    "master_df"
   ]
  },
  {
   "cell_type": "code",
   "execution_count": 32,
   "id": "51ee0c9a-0841-4dec-b8f6-5eae1919e33d",
   "metadata": {},
   "outputs": [],
   "source": [
    "master_df[\"System Size (kW)\"] = 507.100"
   ]
  },
  {
   "cell_type": "code",
   "execution_count": 34,
   "id": "696a55cb-4747-43d5-9559-84426091bfb2",
   "metadata": {},
   "outputs": [],
   "source": [
    "master_df.to_csv(\"daily_siris-D_master.csv\", index=False)"
   ]
  },
  {
   "cell_type": "code",
   "execution_count": null,
   "id": "e274d6f6-63a8-492f-a616-750a20f4b801",
   "metadata": {},
   "outputs": [],
   "source": []
  }
 ],
 "metadata": {
  "kernelspec": {
   "display_name": "Python [conda env:base] *",
   "language": "python",
   "name": "conda-base-py"
  },
  "language_info": {
   "codemirror_mode": {
    "name": "ipython",
    "version": 3
   },
   "file_extension": ".py",
   "mimetype": "text/x-python",
   "name": "python",
   "nbconvert_exporter": "python",
   "pygments_lexer": "ipython3",
   "version": "3.12.7"
  }
 },
 "nbformat": 4,
 "nbformat_minor": 5
}
