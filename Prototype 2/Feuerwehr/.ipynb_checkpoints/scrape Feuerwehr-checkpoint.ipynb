{
 "cells": [
  {
   "cell_type": "code",
   "execution_count": 1,
   "id": "fdfa110c-3d6b-4d2c-b3cc-a81a0f62cc20",
   "metadata": {},
   "outputs": [],
   "source": [
    "from selenium import webdriver\n",
    "from selenium.webdriver.chrome.service import Service\n",
    "from selenium.webdriver.chrome.options import Options\n",
    "from bs4 import BeautifulSoup\n",
    "import pandas as pd\n",
    "import time"
   ]
  },
  {
   "cell_type": "code",
   "execution_count": 2,
   "id": "2016b72c-c4ad-40b7-8db9-bc25a107431c",
   "metadata": {},
   "outputs": [],
   "source": [
    "system_name = \"Feuerwehr\"\n",
    "location = \"Switzerland\"\n",
    "base_url = \"https://pvoutput.org/list.jsp?p={}&id=38078&sid=34873&gs=0&v=0&o=date&d=desc\"\n",
    "pages_to_scrape = 5"
   ]
  },
  {
   "cell_type": "code",
   "execution_count": 3,
   "id": "6fd451ab-c8f4-43e5-917f-e7d6856aacda",
   "metadata": {},
   "outputs": [],
   "source": [
    "options = Options()\n",
    "options.binary_location = r\"C:\\Program Files\\chrome for testing\\chrome-win64\\chrome.exe\"\n",
    "options.add_argument(\"--headless=new\")\n",
    "options.add_argument(\"--disable-gpu\")\n",
    "options.add_argument(\"--window-size=1920,1080\")\n",
    "options.add_argument(\"user-agent=Mozilla/5.0 (Windows NT 10.0; Win64; x64) AppleWebKit/537.36 (KHTML, like Gecko) Chrome/134.0.0.0 Safari/537.36\")\n",
    "service = Service(executable_path=r\"C:\\Program Files\\chrome for testing\\chrome-win64\\chromedriver.exe\")\n",
    "driver = webdriver.Chrome(service=service, options=options)"
   ]
  },
  {
   "cell_type": "code",
   "execution_count": 4,
   "id": "d748136b-50be-48f4-b950-5198555a25d2",
   "metadata": {},
   "outputs": [
    {
     "name": "stdout",
     "output_type": "stream",
     "text": [
      "📄 Scraping page 1 from: https://pvoutput.org/list.jsp?p=0&id=38078&sid=34873&gs=0&v=0&o=date&d=desc\n",
      "📄 Scraping page 2 from: https://pvoutput.org/list.jsp?p=1&id=38078&sid=34873&gs=0&v=0&o=date&d=desc\n",
      "📄 Scraping page 3 from: https://pvoutput.org/list.jsp?p=2&id=38078&sid=34873&gs=0&v=0&o=date&d=desc\n",
      "📄 Scraping page 4 from: https://pvoutput.org/list.jsp?p=3&id=38078&sid=34873&gs=0&v=0&o=date&d=desc\n",
      "📄 Scraping page 5 from: https://pvoutput.org/list.jsp?p=4&id=38078&sid=34873&gs=0&v=0&o=date&d=desc\n"
     ]
    }
   ],
   "source": [
    "all_data = []\n",
    "\n",
    "for page in range(pages_to_scrape):\n",
    "    url = base_url.format(page)\n",
    "    print(f\"📄 Scraping page {page + 1} from: {url}\")\n",
    "    \n",
    "    try:\n",
    "        driver.get(url)\n",
    "        time.sleep(6)\n",
    "        soup = BeautifulSoup(driver.page_source, \"html.parser\")\n",
    "        table = soup.find(\"table\", id=\"tbl_main\")\n",
    "\n",
    "        if not table:\n",
    "            print(f\"⚠️ No table found on page {page + 1}. Retrying once...\")\n",
    "            time.sleep(5)\n",
    "            driver.get(url)\n",
    "            soup = BeautifulSoup(driver.page_source, \"html.parser\")\n",
    "            table = soup.find(\"table\", id=\"tbl_main\")\n",
    "\n",
    "        if table:\n",
    "            rows = table.find_all(\"tr\")[1:]\n",
    "            for row in rows:\n",
    "                cols = [td.get_text(strip=True).replace(',', '') for td in row.find_all(\"td\")]\n",
    "                if len(cols) >= 9:\n",
    "                    cols.append(system_name)\n",
    "                    cols.append(location)\n",
    "                    all_data.append(cols)\n",
    "        else:\n",
    "            print(f\"❌ Failed again: No table found on page {page + 1}\")\n",
    "    except Exception as e:\n",
    "        print(f\"🚨 Error scraping page {page + 1}: {e}\")\n",
    "\n",
    "driver.quit()"
   ]
  },
  {
   "cell_type": "code",
   "execution_count": 5,
   "id": "3a562594-2e09-4d88-b63b-a6ede39206f4",
   "metadata": {},
   "outputs": [],
   "source": [
    "header = [\n",
    "    \"Date\", \"Generated\", \"Efficiency\", \"Exported\", \"Peak Power\",\n",
    "    \"Peak Time\", \"Conditions\", \"Temperature\", \"Comments\",\n",
    "    \"System Name\", \"Location\"\n",
    "]"
   ]
  },
  {
   "cell_type": "code",
   "execution_count": 6,
   "id": "6040b8e0-a192-498d-8449-646ef3c54a5e",
   "metadata": {},
   "outputs": [
    {
     "name": "stdout",
     "output_type": "stream",
     "text": [
      "       Date   Generated   Efficiency System Name     Location\n",
      "0  30/03/25  178.659kWh  2.749kWh/kW   Feuerwehr  Switzerland\n",
      "1  29/03/25   78.258kWh  1.204kWh/kW   Feuerwehr  Switzerland\n",
      "2  28/03/25  100.611kWh  1.548kWh/kW   Feuerwehr  Switzerland\n",
      "3  27/03/25  103.293kWh  1.589kWh/kW   Feuerwehr  Switzerland\n",
      "4  26/03/25  102.417kWh  1.576kWh/kW   Feuerwehr  Switzerland\n"
     ]
    }
   ],
   "source": [
    "df = pd.DataFrame(all_data, columns=header)\n",
    "df.drop(columns=[\"Exported\", \"Temperature\", \"Comments\", \"Peak Power\", \"Peak Time\", \"Conditions\"], inplace=True)\n",
    "print(df.head())"
   ]
  },
  {
   "cell_type": "code",
   "execution_count": 7,
   "id": "37f9ed77-9833-42ac-9a29-3678e2a4219c",
   "metadata": {},
   "outputs": [],
   "source": [
    "page6 = pd.read_csv(\"Feuerwehr_page6.csv\")\n",
    "page7 = pd.read_csv(\"Feuerwehr_page7.csv\")\n",
    "page8 = pd.read_csv(\"Feuerwehr_page8.csv\")\n",
    "page9 = pd.read_csv(\"Feuerwehr_page9.csv\")\n",
    "page10 = pd.read_csv(\"Feuerwehr_page10.csv\")"
   ]
  },
  {
   "cell_type": "code",
   "execution_count": 8,
   "id": "2bf7bb8a-e0e9-4c75-aed9-2a0966bc4e9f",
   "metadata": {},
   "outputs": [],
   "source": [
    "page6[\"System Name\"] = \"Feuerwehr\"\n",
    "page6[\"Location\"] = \"Switzerland\"\n",
    "page7[\"System Name\"] = \"Feuerwehr\"\n",
    "page7[\"Location\"] = \"Switzerland\"\n",
    "page8[\"System Name\"] = \"Feuerwehr\"\n",
    "page8[\"Location\"] = \"Switzerland\"\n",
    "page9[\"System Name\"] = \"Feuerwehr\"\n",
    "page9[\"Location\"] = \"Switzerland\"\n",
    "page10[\"System Name\"] = \"Feuerwehr\"\n",
    "page10[\"Location\"] = \"Switzerland\""
   ]
  },
  {
   "cell_type": "code",
   "execution_count": 9,
   "id": "b73a7d46-5f08-409f-8180-ad3417e04cb8",
   "metadata": {},
   "outputs": [],
   "source": [
    "master_df = pd.concat([df, page6, page7, page8, page9, page10], ignore_index=True)"
   ]
  },
  {
   "cell_type": "code",
   "execution_count": 10,
   "id": "2b3ac52b-9284-4337-886b-0dce2cf2a7f4",
   "metadata": {},
   "outputs": [
    {
     "data": {
      "text/html": [
       "<div>\n",
       "<style scoped>\n",
       "    .dataframe tbody tr th:only-of-type {\n",
       "        vertical-align: middle;\n",
       "    }\n",
       "\n",
       "    .dataframe tbody tr th {\n",
       "        vertical-align: top;\n",
       "    }\n",
       "\n",
       "    .dataframe thead th {\n",
       "        text-align: right;\n",
       "    }\n",
       "</style>\n",
       "<table border=\"1\" class=\"dataframe\">\n",
       "  <thead>\n",
       "    <tr style=\"text-align: right;\">\n",
       "      <th></th>\n",
       "      <th>Date</th>\n",
       "      <th>Generated</th>\n",
       "      <th>Efficiency</th>\n",
       "      <th>System Name</th>\n",
       "      <th>Location</th>\n",
       "    </tr>\n",
       "  </thead>\n",
       "  <tbody>\n",
       "    <tr>\n",
       "      <th>0</th>\n",
       "      <td>30/03/25</td>\n",
       "      <td>178.659kWh</td>\n",
       "      <td>2.749kWh/kW</td>\n",
       "      <td>Feuerwehr</td>\n",
       "      <td>Switzerland</td>\n",
       "    </tr>\n",
       "    <tr>\n",
       "      <th>1</th>\n",
       "      <td>29/03/25</td>\n",
       "      <td>78.258kWh</td>\n",
       "      <td>1.204kWh/kW</td>\n",
       "      <td>Feuerwehr</td>\n",
       "      <td>Switzerland</td>\n",
       "    </tr>\n",
       "    <tr>\n",
       "      <th>2</th>\n",
       "      <td>28/03/25</td>\n",
       "      <td>100.611kWh</td>\n",
       "      <td>1.548kWh/kW</td>\n",
       "      <td>Feuerwehr</td>\n",
       "      <td>Switzerland</td>\n",
       "    </tr>\n",
       "    <tr>\n",
       "      <th>3</th>\n",
       "      <td>27/03/25</td>\n",
       "      <td>103.293kWh</td>\n",
       "      <td>1.589kWh/kW</td>\n",
       "      <td>Feuerwehr</td>\n",
       "      <td>Switzerland</td>\n",
       "    </tr>\n",
       "    <tr>\n",
       "      <th>4</th>\n",
       "      <td>26/03/25</td>\n",
       "      <td>102.417kWh</td>\n",
       "      <td>1.576kWh/kW</td>\n",
       "      <td>Feuerwehr</td>\n",
       "      <td>Switzerland</td>\n",
       "    </tr>\n",
       "    <tr>\n",
       "      <th>...</th>\n",
       "      <td>...</td>\n",
       "      <td>...</td>\n",
       "      <td>...</td>\n",
       "      <td>...</td>\n",
       "      <td>...</td>\n",
       "    </tr>\n",
       "    <tr>\n",
       "      <th>396</th>\n",
       "      <td>2/29/2024</td>\n",
       "      <td>90.141</td>\n",
       "      <td>1.386785</td>\n",
       "      <td>Feuerwehr</td>\n",
       "      <td>Switzerland</td>\n",
       "    </tr>\n",
       "    <tr>\n",
       "      <th>397</th>\n",
       "      <td>2/28/2024</td>\n",
       "      <td>41.766</td>\n",
       "      <td>0.642554</td>\n",
       "      <td>Feuerwehr</td>\n",
       "      <td>Switzerland</td>\n",
       "    </tr>\n",
       "    <tr>\n",
       "      <th>398</th>\n",
       "      <td>2/27/2024</td>\n",
       "      <td>68.538</td>\n",
       "      <td>1.054431</td>\n",
       "      <td>Feuerwehr</td>\n",
       "      <td>Switzerland</td>\n",
       "    </tr>\n",
       "    <tr>\n",
       "      <th>399</th>\n",
       "      <td>2/26/2024</td>\n",
       "      <td>59.781</td>\n",
       "      <td>0.919708</td>\n",
       "      <td>Feuerwehr</td>\n",
       "      <td>Switzerland</td>\n",
       "    </tr>\n",
       "    <tr>\n",
       "      <th>400</th>\n",
       "      <td>2/25/2024</td>\n",
       "      <td>137.511</td>\n",
       "      <td>2.115554</td>\n",
       "      <td>Feuerwehr</td>\n",
       "      <td>Switzerland</td>\n",
       "    </tr>\n",
       "  </tbody>\n",
       "</table>\n",
       "<p>401 rows × 5 columns</p>\n",
       "</div>"
      ],
      "text/plain": [
       "          Date   Generated   Efficiency System Name     Location\n",
       "0     30/03/25  178.659kWh  2.749kWh/kW   Feuerwehr  Switzerland\n",
       "1     29/03/25   78.258kWh  1.204kWh/kW   Feuerwehr  Switzerland\n",
       "2     28/03/25  100.611kWh  1.548kWh/kW   Feuerwehr  Switzerland\n",
       "3     27/03/25  103.293kWh  1.589kWh/kW   Feuerwehr  Switzerland\n",
       "4     26/03/25  102.417kWh  1.576kWh/kW   Feuerwehr  Switzerland\n",
       "..         ...         ...          ...         ...          ...\n",
       "396  2/29/2024      90.141     1.386785   Feuerwehr  Switzerland\n",
       "397  2/28/2024      41.766     0.642554   Feuerwehr  Switzerland\n",
       "398  2/27/2024      68.538     1.054431   Feuerwehr  Switzerland\n",
       "399  2/26/2024      59.781     0.919708   Feuerwehr  Switzerland\n",
       "400  2/25/2024     137.511     2.115554   Feuerwehr  Switzerland\n",
       "\n",
       "[401 rows x 5 columns]"
      ]
     },
     "execution_count": 10,
     "metadata": {},
     "output_type": "execute_result"
    }
   ],
   "source": [
    "master_df"
   ]
  },
  {
   "cell_type": "code",
   "execution_count": 11,
   "id": "9afdf078-62af-4e41-96b7-2ad997008abc",
   "metadata": {},
   "outputs": [],
   "source": [
    "master_df[\"System Size (kW)\"] = 65"
   ]
  },
  {
   "cell_type": "code",
   "execution_count": 12,
   "id": "8c1897aa-6700-4c60-87e2-fbf30d00c9cb",
   "metadata": {},
   "outputs": [],
   "source": [
    "master_df.to_csv(\"daily_Feuerwehr_master.csv\", index=False)"
   ]
  }
 ],
 "metadata": {
  "kernelspec": {
   "display_name": "Python [conda env:base] *",
   "language": "python",
   "name": "conda-base-py"
  },
  "language_info": {
   "codemirror_mode": {
    "name": "ipython",
    "version": 3
   },
   "file_extension": ".py",
   "mimetype": "text/x-python",
   "name": "python",
   "nbconvert_exporter": "python",
   "pygments_lexer": "ipython3",
   "version": "3.12.7"
  }
 },
 "nbformat": 4,
 "nbformat_minor": 5
}
