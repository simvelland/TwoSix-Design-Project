{
 "cells": [
  {
   "cell_type": "code",
   "execution_count": 1,
   "id": "f75bbde0-ad4d-4c64-9120-10b16a6a8e58",
   "metadata": {},
   "outputs": [],
   "source": [
    "from selenium import webdriver\n",
    "from selenium.webdriver.chrome.service import Service\n",
    "from selenium.webdriver.chrome.options import Options\n",
    "from bs4 import BeautifulSoup\n",
    "import pandas as pd\n",
    "import time"
   ]
  },
  {
   "cell_type": "code",
   "execution_count": 2,
   "id": "baea2ab0-927d-48ce-81ab-2399768e30dc",
   "metadata": {},
   "outputs": [],
   "source": [
    "system_name = \"Schipper Power- Three\"\n",
    "location = \"Netherlands\"\n",
    "base_url = \"https://pvoutput.org/list.jsp?p={}&id=49186&sid=67510&gs=0&v=0&o=date&d=desc\"\n",
    "pages_to_scrape = 5"
   ]
  },
  {
   "cell_type": "code",
   "execution_count": 3,
   "id": "dbee4d94-1b89-43f0-ab81-3c23a54586a5",
   "metadata": {},
   "outputs": [],
   "source": [
    "options = Options()\n",
    "options.binary_location = r\"C:\\Program Files\\chrome for testing\\chrome-win64\\chrome.exe\"\n",
    "options.add_argument(\"--headless=new\")\n",
    "options.add_argument(\"--disable-gpu\")\n",
    "options.add_argument(\"--window-size=1920,1080\")\n",
    "options.add_argument(\"user-agent=Mozilla/5.0 (Windows NT 10.0; Win64; x64) AppleWebKit/537.36 (KHTML, like Gecko) Chrome/134.0.0.0 Safari/537.36\")\n",
    "service = Service(executable_path=r\"C:\\Program Files\\chrome for testing\\chrome-win64\\chromedriver.exe\")\n",
    "driver = webdriver.Chrome(service=service, options=options)"
   ]
  },
  {
   "cell_type": "code",
   "execution_count": 4,
   "id": "1143b895-9057-4a48-b9e7-d558f028feef",
   "metadata": {},
   "outputs": [
    {
     "name": "stdout",
     "output_type": "stream",
     "text": [
      "📄 Scraping page 1 from: https://pvoutput.org/list.jsp?p=0&id=49186&sid=67510&gs=0&v=0&o=date&d=desc\n",
      "📄 Scraping page 2 from: https://pvoutput.org/list.jsp?p=1&id=49186&sid=67510&gs=0&v=0&o=date&d=desc\n",
      "📄 Scraping page 3 from: https://pvoutput.org/list.jsp?p=2&id=49186&sid=67510&gs=0&v=0&o=date&d=desc\n",
      "📄 Scraping page 4 from: https://pvoutput.org/list.jsp?p=3&id=49186&sid=67510&gs=0&v=0&o=date&d=desc\n",
      "📄 Scraping page 5 from: https://pvoutput.org/list.jsp?p=4&id=49186&sid=67510&gs=0&v=0&o=date&d=desc\n"
     ]
    }
   ],
   "source": [
    "all_data = []\n",
    "\n",
    "for page in range(pages_to_scrape):\n",
    "    url = base_url.format(page)\n",
    "    print(f\"📄 Scraping page {page + 1} from: {url}\")\n",
    "    \n",
    "    try:\n",
    "        driver.get(url)\n",
    "        time.sleep(6)\n",
    "        soup = BeautifulSoup(driver.page_source, \"html.parser\")\n",
    "        table = soup.find(\"table\", id=\"tbl_main\")\n",
    "\n",
    "        if not table:\n",
    "            print(f\"⚠️ No table found on page {page + 1}. Retrying once...\")\n",
    "            time.sleep(5)\n",
    "            driver.get(url)\n",
    "            soup = BeautifulSoup(driver.page_source, \"html.parser\")\n",
    "            table = soup.find(\"table\", id=\"tbl_main\")\n",
    "\n",
    "        if table:\n",
    "            rows = table.find_all(\"tr\")[1:]\n",
    "            for row in rows:\n",
    "                cols = [td.get_text(strip=True).replace(',', '') for td in row.find_all(\"td\")]\n",
    "                if len(cols) >= 9:\n",
    "                    cols.append(system_name)\n",
    "                    cols.append(location)\n",
    "                    all_data.append(cols)\n",
    "        else:\n",
    "            print(f\"❌ Failed again: No table found on page {page + 1}\")\n",
    "    except Exception as e:\n",
    "        print(f\"🚨 Error scraping page {page + 1}: {e}\")\n",
    "\n",
    "driver.quit()"
   ]
  },
  {
   "cell_type": "code",
   "execution_count": 5,
   "id": "94c251ad-b885-4acf-b442-fd8a997a29a0",
   "metadata": {},
   "outputs": [],
   "source": [
    "header = [\n",
    "    \"Date\", \"Generated\", \"Efficiency\", \"Exported\", \"Peak Power\",\n",
    "    \"Peak Time\", \"Conditions\", \"Temperature\", \"Comments\",\n",
    "    \"System Name\", \"Location\"\n",
    "]"
   ]
  },
  {
   "cell_type": "code",
   "execution_count": 6,
   "id": "9912aa08-4037-4d45-8c03-ff9a98056696",
   "metadata": {},
   "outputs": [
    {
     "name": "stdout",
     "output_type": "stream",
     "text": [
      "       Date    Generated   Efficiency            System Name     Location\n",
      "0  30/03/25   952.360kWh  1.911kWh/kW  Schipper Power- Three  Netherlands\n",
      "1  29/03/25  1415.110kWh  2.839kWh/kW  Schipper Power- Three  Netherlands\n",
      "2  28/03/25   867.820kWh  1.741kWh/kW  Schipper Power- Three  Netherlands\n",
      "3  27/03/25  1727.360kWh  3.466kWh/kW  Schipper Power- Three  Netherlands\n",
      "4  26/03/25  1034.490kWh  2.076kWh/kW  Schipper Power- Three  Netherlands\n"
     ]
    }
   ],
   "source": [
    "df = pd.DataFrame(all_data, columns=header)\n",
    "df.drop(columns=[\"Exported\", \"Temperature\", \"Comments\", \"Peak Power\", \"Peak Time\", \"Conditions\"], inplace=True)\n",
    "print(df.head())"
   ]
  },
  {
   "cell_type": "code",
   "execution_count": 20,
   "id": "73612805-119f-47b2-af84-d5cfbbc1b93c",
   "metadata": {},
   "outputs": [],
   "source": [
    "page6 = pd.read_csv(\"Schipper Power-Three_page6.csv\")\n",
    "page7 = pd.read_csv(\"Schipper Power-Three_page7.csv\")\n",
    "page8 = pd.read_csv(\"Schipper Power-Three_page8.csv\")\n",
    "page9 = pd.read_csv(\"Schipper Power-Three_page9.csv\")\n",
    "page10 = pd.read_csv(\"Schipper Power-Three_page10.csv\")"
   ]
  },
  {
   "cell_type": "code",
   "execution_count": 22,
   "id": "0914456e-c905-4e7c-8043-be4a09ea5713",
   "metadata": {},
   "outputs": [],
   "source": [
    "page6[\"System Name\"] = \"Schipper Power- Three\"\n",
    "page6[\"Location\"] = \"Netherlands\"\n",
    "page7[\"System Name\"] = \"Schipper Power- Three\"\n",
    "page7[\"Location\"] = \"Netherlands\"\n",
    "page8[\"System Name\"] = \"Schipper Power- Three\"\n",
    "page8[\"Location\"] = \"Netherlands\"\n",
    "page9[\"System Name\"] = \"Schipper Power- Three\"\n",
    "page9[\"Location\"] = \"Netherlands\"\n",
    "page10[\"System Name\"] = \"Schipper Power- Three\"\n",
    "page10[\"Location\"] = \"Netherlands\""
   ]
  },
  {
   "cell_type": "code",
   "execution_count": 24,
   "id": "7e519dea-fc49-4a3a-8f1a-c69885d68463",
   "metadata": {},
   "outputs": [],
   "source": [
    "master_df = pd.concat([df, page6, page7, page8, page9, page10], ignore_index=True)"
   ]
  },
  {
   "cell_type": "code",
   "execution_count": 26,
   "id": "7014296c-5811-4a35-a733-1e9e372b44a1",
   "metadata": {},
   "outputs": [
    {
     "data": {
      "text/html": [
       "<div>\n",
       "<style scoped>\n",
       "    .dataframe tbody tr th:only-of-type {\n",
       "        vertical-align: middle;\n",
       "    }\n",
       "\n",
       "    .dataframe tbody tr th {\n",
       "        vertical-align: top;\n",
       "    }\n",
       "\n",
       "    .dataframe thead th {\n",
       "        text-align: right;\n",
       "    }\n",
       "</style>\n",
       "<table border=\"1\" class=\"dataframe\">\n",
       "  <thead>\n",
       "    <tr style=\"text-align: right;\">\n",
       "      <th></th>\n",
       "      <th>Date</th>\n",
       "      <th>Generated</th>\n",
       "      <th>Efficiency</th>\n",
       "      <th>System Name</th>\n",
       "      <th>Location</th>\n",
       "    </tr>\n",
       "  </thead>\n",
       "  <tbody>\n",
       "    <tr>\n",
       "      <th>0</th>\n",
       "      <td>30/03/25</td>\n",
       "      <td>952.360kWh</td>\n",
       "      <td>1.911kWh/kW</td>\n",
       "      <td>Schipper Power- Three</td>\n",
       "      <td>Netherlands</td>\n",
       "    </tr>\n",
       "    <tr>\n",
       "      <th>1</th>\n",
       "      <td>29/03/25</td>\n",
       "      <td>1415.110kWh</td>\n",
       "      <td>2.839kWh/kW</td>\n",
       "      <td>Schipper Power- Three</td>\n",
       "      <td>Netherlands</td>\n",
       "    </tr>\n",
       "    <tr>\n",
       "      <th>2</th>\n",
       "      <td>28/03/25</td>\n",
       "      <td>867.820kWh</td>\n",
       "      <td>1.741kWh/kW</td>\n",
       "      <td>Schipper Power- Three</td>\n",
       "      <td>Netherlands</td>\n",
       "    </tr>\n",
       "    <tr>\n",
       "      <th>3</th>\n",
       "      <td>27/03/25</td>\n",
       "      <td>1727.360kWh</td>\n",
       "      <td>3.466kWh/kW</td>\n",
       "      <td>Schipper Power- Three</td>\n",
       "      <td>Netherlands</td>\n",
       "    </tr>\n",
       "    <tr>\n",
       "      <th>4</th>\n",
       "      <td>26/03/25</td>\n",
       "      <td>1034.490kWh</td>\n",
       "      <td>2.076kWh/kW</td>\n",
       "      <td>Schipper Power- Three</td>\n",
       "      <td>Netherlands</td>\n",
       "    </tr>\n",
       "    <tr>\n",
       "      <th>...</th>\n",
       "      <td>...</td>\n",
       "      <td>...</td>\n",
       "      <td>...</td>\n",
       "      <td>...</td>\n",
       "      <td>...</td>\n",
       "    </tr>\n",
       "    <tr>\n",
       "      <th>395</th>\n",
       "      <td>2/29/2024</td>\n",
       "      <td>218.1</td>\n",
       "      <td>0.437583</td>\n",
       "      <td>Schipper Power- Three</td>\n",
       "      <td>Netherlands</td>\n",
       "    </tr>\n",
       "    <tr>\n",
       "      <th>396</th>\n",
       "      <td>2/28/2024</td>\n",
       "      <td>580.13</td>\n",
       "      <td>1.163938</td>\n",
       "      <td>Schipper Power- Three</td>\n",
       "      <td>Netherlands</td>\n",
       "    </tr>\n",
       "    <tr>\n",
       "      <th>397</th>\n",
       "      <td>2/27/2024</td>\n",
       "      <td>1021.18</td>\n",
       "      <td>2.048834</td>\n",
       "      <td>Schipper Power- Three</td>\n",
       "      <td>Netherlands</td>\n",
       "    </tr>\n",
       "    <tr>\n",
       "      <th>398</th>\n",
       "      <td>2/26/2024</td>\n",
       "      <td>428.96</td>\n",
       "      <td>0.86064</td>\n",
       "      <td>Schipper Power- Three</td>\n",
       "      <td>Netherlands</td>\n",
       "    </tr>\n",
       "    <tr>\n",
       "      <th>399</th>\n",
       "      <td>2/25/2024</td>\n",
       "      <td>493.59</td>\n",
       "      <td>0.990309</td>\n",
       "      <td>Schipper Power- Three</td>\n",
       "      <td>Netherlands</td>\n",
       "    </tr>\n",
       "  </tbody>\n",
       "</table>\n",
       "<p>400 rows × 5 columns</p>\n",
       "</div>"
      ],
      "text/plain": [
       "          Date    Generated   Efficiency            System Name     Location\n",
       "0     30/03/25   952.360kWh  1.911kWh/kW  Schipper Power- Three  Netherlands\n",
       "1     29/03/25  1415.110kWh  2.839kWh/kW  Schipper Power- Three  Netherlands\n",
       "2     28/03/25   867.820kWh  1.741kWh/kW  Schipper Power- Three  Netherlands\n",
       "3     27/03/25  1727.360kWh  3.466kWh/kW  Schipper Power- Three  Netherlands\n",
       "4     26/03/25  1034.490kWh  2.076kWh/kW  Schipper Power- Three  Netherlands\n",
       "..         ...          ...          ...                    ...          ...\n",
       "395  2/29/2024        218.1     0.437583  Schipper Power- Three  Netherlands\n",
       "396  2/28/2024       580.13     1.163938  Schipper Power- Three  Netherlands\n",
       "397  2/27/2024      1021.18     2.048834  Schipper Power- Three  Netherlands\n",
       "398  2/26/2024       428.96      0.86064  Schipper Power- Three  Netherlands\n",
       "399  2/25/2024       493.59     0.990309  Schipper Power- Three  Netherlands\n",
       "\n",
       "[400 rows x 5 columns]"
      ]
     },
     "execution_count": 26,
     "metadata": {},
     "output_type": "execute_result"
    }
   ],
   "source": [
    "master_df"
   ]
  },
  {
   "cell_type": "code",
   "execution_count": 28,
   "id": "3b4bf72f-230d-481e-8047-d826aba71f4b",
   "metadata": {},
   "outputs": [],
   "source": [
    "master_df[\"System Size (kW)\"] = 498.420"
   ]
  },
  {
   "cell_type": "code",
   "execution_count": 32,
   "id": "67820dd0-1dac-42fd-a3bd-6d80d6a26cea",
   "metadata": {},
   "outputs": [],
   "source": [
    "master_df.to_csv(\"daily_Schipper Power- Three_master.csv\", index=False)"
   ]
  },
  {
   "cell_type": "code",
   "execution_count": null,
   "id": "1b58b884-e620-4693-b819-1a1ec308fb60",
   "metadata": {},
   "outputs": [],
   "source": []
  }
 ],
 "metadata": {
  "kernelspec": {
   "display_name": "Python [conda env:base] *",
   "language": "python",
   "name": "conda-base-py"
  },
  "language_info": {
   "codemirror_mode": {
    "name": "ipython",
    "version": 3
   },
   "file_extension": ".py",
   "mimetype": "text/x-python",
   "name": "python",
   "nbconvert_exporter": "python",
   "pygments_lexer": "ipython3",
   "version": "3.12.7"
  }
 },
 "nbformat": 4,
 "nbformat_minor": 5
}
