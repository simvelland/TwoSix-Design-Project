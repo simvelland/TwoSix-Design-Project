{
 "cells": [
  {
   "cell_type": "code",
   "execution_count": 2,
   "id": "6dec10d4-f38e-4502-adfe-f2df8457f4e7",
   "metadata": {},
   "outputs": [],
   "source": [
    "from selenium import webdriver\n",
    "from selenium.webdriver.chrome.service import Service\n",
    "from selenium.webdriver.chrome.options import Options\n",
    "from bs4 import BeautifulSoup\n",
    "import pandas as pd\n",
    "import time"
   ]
  },
  {
   "cell_type": "code",
   "execution_count": 3,
   "id": "f8b4b4cb-fef8-422b-a127-7310042c46c3",
   "metadata": {},
   "outputs": [],
   "source": [
    "system_name = \"FRECON\"\n",
    "location = \"Thailand\"\n",
    "base_url = \"https://pvoutput.org/list.jsp?p={}&id=51787&sid=47085&gs=0&v=0&o=date&d=desc\"\n",
    "pages_to_scrape = 5"
   ]
  },
  {
   "cell_type": "code",
   "execution_count": 4,
   "id": "cf724e5e-90a7-4b46-865b-74da727cf3de",
   "metadata": {},
   "outputs": [],
   "source": [
    "options = Options()\n",
    "options.binary_location = r\"C:\\Program Files\\chrome for testing\\chrome-win64\\chrome.exe\"\n",
    "options.add_argument(\"--headless=new\")\n",
    "options.add_argument(\"--disable-gpu\")\n",
    "options.add_argument(\"--window-size=1920,1080\")\n",
    "options.add_argument(\"user-agent=Mozilla/5.0 (Windows NT 10.0; Win64; x64) AppleWebKit/537.36 (KHTML, like Gecko) Chrome/134.0.0.0 Safari/537.36\")\n",
    "service = Service(executable_path=r\"C:\\Program Files\\chrome for testing\\chrome-win64\\chromedriver.exe\")\n",
    "driver = webdriver.Chrome(service=service, options=options)"
   ]
  },
  {
   "cell_type": "code",
   "execution_count": 5,
   "id": "6ca575ec-9c90-4e0a-ba80-20321dfc9c6c",
   "metadata": {},
   "outputs": [
    {
     "name": "stdout",
     "output_type": "stream",
     "text": [
      "📄 Scraping page 1 from: https://pvoutput.org/list.jsp?p=0&id=51787&sid=47085&gs=0&v=0&o=date&d=desc\n",
      "📄 Scraping page 2 from: https://pvoutput.org/list.jsp?p=1&id=51787&sid=47085&gs=0&v=0&o=date&d=desc\n",
      "📄 Scraping page 3 from: https://pvoutput.org/list.jsp?p=2&id=51787&sid=47085&gs=0&v=0&o=date&d=desc\n",
      "📄 Scraping page 4 from: https://pvoutput.org/list.jsp?p=3&id=51787&sid=47085&gs=0&v=0&o=date&d=desc\n",
      "📄 Scraping page 5 from: https://pvoutput.org/list.jsp?p=4&id=51787&sid=47085&gs=0&v=0&o=date&d=desc\n"
     ]
    }
   ],
   "source": [
    "all_data = []\n",
    "\n",
    "for page in range(pages_to_scrape):\n",
    "    url = base_url.format(page)\n",
    "    print(f\"📄 Scraping page {page + 1} from: {url}\")\n",
    "    \n",
    "    try:\n",
    "        driver.get(url)\n",
    "        time.sleep(6)\n",
    "        soup = BeautifulSoup(driver.page_source, \"html.parser\")\n",
    "        table = soup.find(\"table\", id=\"tbl_main\")\n",
    "\n",
    "        if not table:\n",
    "            print(f\"⚠️ No table found on page {page + 1}. Retrying once...\")\n",
    "            time.sleep(5)\n",
    "            driver.get(url)\n",
    "            soup = BeautifulSoup(driver.page_source, \"html.parser\")\n",
    "            table = soup.find(\"table\", id=\"tbl_main\")\n",
    "\n",
    "        if table:\n",
    "            rows = table.find_all(\"tr\")[1:]\n",
    "            for row in rows:\n",
    "                cols = [td.get_text(strip=True).replace(',', '') for td in row.find_all(\"td\")]\n",
    "                if len(cols) >= 9:\n",
    "                    cols.append(system_name)\n",
    "                    cols.append(location)\n",
    "                    all_data.append(cols)\n",
    "        else:\n",
    "            print(f\"❌ Failed again: No table found on page {page + 1}\")\n",
    "    except Exception as e:\n",
    "        print(f\"🚨 Error scraping page {page + 1}: {e}\")\n",
    "\n",
    "driver.quit()"
   ]
  },
  {
   "cell_type": "code",
   "execution_count": 6,
   "id": "a3f4a8ab-3cc4-451b-9421-7aeebecb4754",
   "metadata": {},
   "outputs": [],
   "source": [
    "header = [\n",
    "    \"Date\", \"Generated\", \"Efficiency\", \"Exported\", \"Peak Power\",\n",
    "    \"Peak Time\", \"Conditions\", \"Temperature\", \"Comments\",\n",
    "    \"System Name\", \"Location\"\n",
    "]"
   ]
  },
  {
   "cell_type": "code",
   "execution_count": 7,
   "id": "92c919a6-2db0-4ffa-bb87-84ff8265ab09",
   "metadata": {},
   "outputs": [
    {
     "name": "stdout",
     "output_type": "stream",
     "text": [
      "       Date   Generated   Efficiency System Name  Location\n",
      "0  31/03/25    0.000kWh  0.000kWh/kW      FRECON  Thailand\n",
      "1  30/03/25    0.000kWh  0.000kWh/kW      FRECON  Thailand\n",
      "2  29/03/25  552.301kWh  3.607kWh/kW      FRECON  Thailand\n",
      "3  28/03/25  600.951kWh  3.924kWh/kW      FRECON  Thailand\n",
      "4  27/03/25  536.289kWh  3.502kWh/kW      FRECON  Thailand\n"
     ]
    }
   ],
   "source": [
    "df = pd.DataFrame(all_data, columns=header)\n",
    "df.drop(columns=[\"Exported\", \"Temperature\", \"Comments\", \"Peak Power\", \"Peak Time\", \"Conditions\"], inplace=True)\n",
    "print(df.head())"
   ]
  },
  {
   "cell_type": "code",
   "execution_count": 8,
   "id": "ff29ff26-53c2-4bb0-ad42-0651ab2f8415",
   "metadata": {},
   "outputs": [],
   "source": [
    "page6 = pd.read_csv(\"FRECON_page6.csv\")\n",
    "page7 = pd.read_csv(\"FRECON_page7.csv\")\n",
    "page8 = pd.read_csv(\"FRECON_page8.csv\")\n",
    "page9 = pd.read_csv(\"FRECON_page9.csv\")\n",
    "page10 = pd.read_csv(\"FRECON_page10.csv\")"
   ]
  },
  {
   "cell_type": "code",
   "execution_count": 9,
   "id": "0e3832af-17c9-4963-9c72-5a83a4abb848",
   "metadata": {},
   "outputs": [],
   "source": [
    "page6[\"System Name\"] = \"FRECON\"\n",
    "page6[\"Location\"] = \"Thailand\"\n",
    "page7[\"System Name\"] = \"FRECON\"\n",
    "page7[\"Location\"] = \"Thailand\"\n",
    "page8[\"System Name\"] = \"FRECON\"\n",
    "page8[\"Location\"] = \"Thailand\"\n",
    "page9[\"System Name\"] = \"FRECON\"\n",
    "page9[\"Location\"] = \"Thailand\"\n",
    "page10[\"System Name\"] = \"FRECON\"\n",
    "page10[\"Location\"] = \"Thailand\""
   ]
  },
  {
   "cell_type": "code",
   "execution_count": 10,
   "id": "ec1c99ab-63de-46a2-bbfd-08efb49aafc7",
   "metadata": {},
   "outputs": [],
   "source": [
    "master_df = pd.concat([df, page6, page7, page8, page9, page10], ignore_index=True)"
   ]
  },
  {
   "cell_type": "code",
   "execution_count": 11,
   "id": "301db853-4e08-4045-adbd-17b4faf58873",
   "metadata": {},
   "outputs": [
    {
     "data": {
      "text/html": [
       "<div>\n",
       "<style scoped>\n",
       "    .dataframe tbody tr th:only-of-type {\n",
       "        vertical-align: middle;\n",
       "    }\n",
       "\n",
       "    .dataframe tbody tr th {\n",
       "        vertical-align: top;\n",
       "    }\n",
       "\n",
       "    .dataframe thead th {\n",
       "        text-align: right;\n",
       "    }\n",
       "</style>\n",
       "<table border=\"1\" class=\"dataframe\">\n",
       "  <thead>\n",
       "    <tr style=\"text-align: right;\">\n",
       "      <th></th>\n",
       "      <th>Date</th>\n",
       "      <th>Generated</th>\n",
       "      <th>Efficiency</th>\n",
       "      <th>System Name</th>\n",
       "      <th>Location</th>\n",
       "    </tr>\n",
       "  </thead>\n",
       "  <tbody>\n",
       "    <tr>\n",
       "      <th>0</th>\n",
       "      <td>31/03/25</td>\n",
       "      <td>0.000kWh</td>\n",
       "      <td>0.000kWh/kW</td>\n",
       "      <td>FRECON</td>\n",
       "      <td>Thailand</td>\n",
       "    </tr>\n",
       "    <tr>\n",
       "      <th>1</th>\n",
       "      <td>30/03/25</td>\n",
       "      <td>0.000kWh</td>\n",
       "      <td>0.000kWh/kW</td>\n",
       "      <td>FRECON</td>\n",
       "      <td>Thailand</td>\n",
       "    </tr>\n",
       "    <tr>\n",
       "      <th>2</th>\n",
       "      <td>29/03/25</td>\n",
       "      <td>552.301kWh</td>\n",
       "      <td>3.607kWh/kW</td>\n",
       "      <td>FRECON</td>\n",
       "      <td>Thailand</td>\n",
       "    </tr>\n",
       "    <tr>\n",
       "      <th>3</th>\n",
       "      <td>28/03/25</td>\n",
       "      <td>600.951kWh</td>\n",
       "      <td>3.924kWh/kW</td>\n",
       "      <td>FRECON</td>\n",
       "      <td>Thailand</td>\n",
       "    </tr>\n",
       "    <tr>\n",
       "      <th>4</th>\n",
       "      <td>27/03/25</td>\n",
       "      <td>536.289kWh</td>\n",
       "      <td>3.502kWh/kW</td>\n",
       "      <td>FRECON</td>\n",
       "      <td>Thailand</td>\n",
       "    </tr>\n",
       "    <tr>\n",
       "      <th>...</th>\n",
       "      <td>...</td>\n",
       "      <td>...</td>\n",
       "      <td>...</td>\n",
       "      <td>...</td>\n",
       "      <td>...</td>\n",
       "    </tr>\n",
       "    <tr>\n",
       "      <th>395</th>\n",
       "      <td>2/2/2024</td>\n",
       "      <td>492.147</td>\n",
       "      <td>3.213706</td>\n",
       "      <td>FRECON</td>\n",
       "      <td>Thailand</td>\n",
       "    </tr>\n",
       "    <tr>\n",
       "      <th>396</th>\n",
       "      <td>2/1/2024</td>\n",
       "      <td>451.547</td>\n",
       "      <td>2.94859</td>\n",
       "      <td>FRECON</td>\n",
       "      <td>Thailand</td>\n",
       "    </tr>\n",
       "    <tr>\n",
       "      <th>397</th>\n",
       "      <td>1/31/2024</td>\n",
       "      <td>401.362</td>\n",
       "      <td>2.620883</td>\n",
       "      <td>FRECON</td>\n",
       "      <td>Thailand</td>\n",
       "    </tr>\n",
       "    <tr>\n",
       "      <th>398</th>\n",
       "      <td>1/30/2024</td>\n",
       "      <td>361.826</td>\n",
       "      <td>2.362714</td>\n",
       "      <td>FRECON</td>\n",
       "      <td>Thailand</td>\n",
       "    </tr>\n",
       "    <tr>\n",
       "      <th>399</th>\n",
       "      <td>1/29/2024</td>\n",
       "      <td>407.158</td>\n",
       "      <td>2.658731</td>\n",
       "      <td>FRECON</td>\n",
       "      <td>Thailand</td>\n",
       "    </tr>\n",
       "  </tbody>\n",
       "</table>\n",
       "<p>400 rows × 5 columns</p>\n",
       "</div>"
      ],
      "text/plain": [
       "          Date   Generated   Efficiency System Name  Location\n",
       "0     31/03/25    0.000kWh  0.000kWh/kW      FRECON  Thailand\n",
       "1     30/03/25    0.000kWh  0.000kWh/kW      FRECON  Thailand\n",
       "2     29/03/25  552.301kWh  3.607kWh/kW      FRECON  Thailand\n",
       "3     28/03/25  600.951kWh  3.924kWh/kW      FRECON  Thailand\n",
       "4     27/03/25  536.289kWh  3.502kWh/kW      FRECON  Thailand\n",
       "..         ...         ...          ...         ...       ...\n",
       "395   2/2/2024     492.147     3.213706      FRECON  Thailand\n",
       "396   2/1/2024     451.547      2.94859      FRECON  Thailand\n",
       "397  1/31/2024     401.362     2.620883      FRECON  Thailand\n",
       "398  1/30/2024     361.826     2.362714      FRECON  Thailand\n",
       "399  1/29/2024     407.158     2.658731      FRECON  Thailand\n",
       "\n",
       "[400 rows x 5 columns]"
      ]
     },
     "execution_count": 11,
     "metadata": {},
     "output_type": "execute_result"
    }
   ],
   "source": [
    "master_df"
   ]
  },
  {
   "cell_type": "code",
   "execution_count": 12,
   "id": "23c9d28b-69e2-4f79-ab06-d90d2866e189",
   "metadata": {},
   "outputs": [],
   "source": [
    "master_df[\"System Size (kW)\"] = 153.140"
   ]
  },
  {
   "cell_type": "code",
   "execution_count": 13,
   "id": "dab36007-86ae-411f-886b-0db609fcf09e",
   "metadata": {},
   "outputs": [],
   "source": [
    "master_df.to_csv(\"daily_FRECON_master.csv\", index=False)"
   ]
  }
 ],
 "metadata": {
  "kernelspec": {
   "display_name": "Python [conda env:base] *",
   "language": "python",
   "name": "conda-base-py"
  },
  "language_info": {
   "codemirror_mode": {
    "name": "ipython",
    "version": 3
   },
   "file_extension": ".py",
   "mimetype": "text/x-python",
   "name": "python",
   "nbconvert_exporter": "python",
   "pygments_lexer": "ipython3",
   "version": "3.12.7"
  }
 },
 "nbformat": 4,
 "nbformat_minor": 5
}
