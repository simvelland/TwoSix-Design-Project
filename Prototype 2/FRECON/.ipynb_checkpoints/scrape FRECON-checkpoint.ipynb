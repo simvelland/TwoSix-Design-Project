{
 "cells": [
  {
   "cell_type": "code",
   "execution_count": null,
   "id": "6dec10d4-f38e-4502-adfe-f2df8457f4e7",
   "metadata": {},
   "outputs": [],
   "source": [
    "from selenium import webdriver\n",
    "from selenium.webdriver.chrome.service import Service\n",
    "from selenium.webdriver.chrome.options import Options\n",
    "from bs4 import BeautifulSoup\n",
    "import pandas as pd\n",
    "import time"
   ]
  },
  {
   "cell_type": "code",
   "execution_count": null,
   "id": "f8b4b4cb-fef8-422b-a127-7310042c46c3",
   "metadata": {},
   "outputs": [],
   "source": [
    "system_name = \"FRECON\"\n",
    "location = \"Thailand\"\n",
    "base_url = \"https://pvoutput.org/list.jsp?p={}&id=51787&sid=47085&gs=0&v=0&o=date&d=desc\"\n",
    "pages_to_scrape = 5"
   ]
  },
  {
   "cell_type": "code",
   "execution_count": null,
   "id": "cf724e5e-90a7-4b46-865b-74da727cf3de",
   "metadata": {},
   "outputs": [],
   "source": [
    "options = Options()\n",
    "options.binary_location = r\"C:\\Program Files\\chrome for testing\\chrome-win64\\chrome.exe\"\n",
    "options.add_argument(\"--headless=new\")\n",
    "options.add_argument(\"--disable-gpu\")\n",
    "options.add_argument(\"--window-size=1920,1080\")\n",
    "options.add_argument(\"user-agent=Mozilla/5.0 (Windows NT 10.0; Win64; x64) AppleWebKit/537.36 (KHTML, like Gecko) Chrome/134.0.0.0 Safari/537.36\")\n",
    "service = Service(executable_path=r\"C:\\Program Files\\chrome for testing\\chrome-win64\\chromedriver.exe\")\n",
    "driver = webdriver.Chrome(service=service, options=options)"
   ]
  },
  {
   "cell_type": "code",
   "execution_count": null,
   "id": "6ca575ec-9c90-4e0a-ba80-20321dfc9c6c",
   "metadata": {},
   "outputs": [],
   "source": [
    "all_data = []\n",
    "\n",
    "for page in range(pages_to_scrape):\n",
    "    url = base_url.format(page)\n",
    "    print(f\"📄 Scraping page {page + 1} from: {url}\")\n",
    "    \n",
    "    try:\n",
    "        driver.get(url)\n",
    "        time.sleep(6)\n",
    "        soup = BeautifulSoup(driver.page_source, \"html.parser\")\n",
    "        table = soup.find(\"table\", id=\"tbl_main\")\n",
    "\n",
    "        if not table:\n",
    "            print(f\"⚠️ No table found on page {page + 1}. Retrying once...\")\n",
    "            time.sleep(5)\n",
    "            driver.get(url)\n",
    "            soup = BeautifulSoup(driver.page_source, \"html.parser\")\n",
    "            table = soup.find(\"table\", id=\"tbl_main\")\n",
    "\n",
    "        if table:\n",
    "            rows = table.find_all(\"tr\")[1:]\n",
    "            for row in rows:\n",
    "                cols = [td.get_text(strip=True).replace(',', '') for td in row.find_all(\"td\")]\n",
    "                if len(cols) >= 9:\n",
    "                    cols.append(system_name)\n",
    "                    cols.append(location)\n",
    "                    all_data.append(cols)\n",
    "        else:\n",
    "            print(f\"❌ Failed again: No table found on page {page + 1}\")\n",
    "    except Exception as e:\n",
    "        print(f\"🚨 Error scraping page {page + 1}: {e}\")\n",
    "\n",
    "driver.quit()"
   ]
  },
  {
   "cell_type": "code",
   "execution_count": null,
   "id": "a3f4a8ab-3cc4-451b-9421-7aeebecb4754",
   "metadata": {},
   "outputs": [],
   "source": [
    "header = [\n",
    "    \"Date\", \"Generated\", \"Efficiency\", \"Exported\", \"Peak Power\",\n",
    "    \"Peak Time\", \"Conditions\", \"Temperature\", \"Comments\",\n",
    "    \"System Name\", \"Location\"\n",
    "]"
   ]
  },
  {
   "cell_type": "code",
   "execution_count": null,
   "id": "92c919a6-2db0-4ffa-bb87-84ff8265ab09",
   "metadata": {},
   "outputs": [],
   "source": [
    "df = pd.DataFrame(all_data, columns=header)\n",
    "df.drop(columns=[\"Exported\", \"Temperature\", \"Comments\", \"Peak Power\", \"Peak Time\", \"Conditions\"], inplace=True)\n",
    "print(df.head())"
   ]
  },
  {
   "cell_type": "code",
   "execution_count": null,
   "id": "ff29ff26-53c2-4bb0-ad42-0651ab2f8415",
   "metadata": {},
   "outputs": [],
   "source": [
    "page6 = pd.read_csv(\"FRECON_page6.csv\")\n",
    "page7 = pd.read_csv(\"FRECON_page7.csv\")\n",
    "page8 = pd.read_csv(\"FRECON_page8.csv\")\n",
    "page9 = pd.read_csv(\"FRECON_page9.csv\")\n",
    "page10 = pd.read_csv(\"FRECON_page10.csv\")"
   ]
  },
  {
   "cell_type": "code",
   "execution_count": null,
   "id": "0e3832af-17c9-4963-9c72-5a83a4abb848",
   "metadata": {},
   "outputs": [],
   "source": [
    "page6[\"System Name\"] = \"FRECON\"\n",
    "page6[\"Location\"] = \"Thailand\"\n",
    "page7[\"System Name\"] = \"FRECON\"\n",
    "page7[\"Location\"] = \"Thailand\"\n",
    "page8[\"System Name\"] = \"FRECON\"\n",
    "page8[\"Location\"] = \"Thailand\"\n",
    "page9[\"System Name\"] = \"FRECON\"\n",
    "page9[\"Location\"] = \"Thailand\"\n",
    "page10[\"System Name\"] = \"FRECON\"\n",
    "page10[\"Location\"] = \"Thailand\""
   ]
  },
  {
   "cell_type": "code",
   "execution_count": null,
   "id": "ec1c99ab-63de-46a2-bbfd-08efb49aafc7",
   "metadata": {},
   "outputs": [],
   "source": [
    "master_df = pd.concat([df, page6, page7, page8, page9, page10], ignore_index=True)"
   ]
  },
  {
   "cell_type": "code",
   "execution_count": null,
   "id": "301db853-4e08-4045-adbd-17b4faf58873",
   "metadata": {},
   "outputs": [],
   "source": [
    "master_df"
   ]
  },
  {
   "cell_type": "code",
   "execution_count": null,
   "id": "23c9d28b-69e2-4f79-ab06-d90d2866e189",
   "metadata": {},
   "outputs": [],
   "source": [
    "master_df[\"System Size (kW)\"] = 153.140"
   ]
  },
  {
   "cell_type": "code",
   "execution_count": null,
   "id": "dab36007-86ae-411f-886b-0db609fcf09e",
   "metadata": {},
   "outputs": [],
   "source": [
    "master_df.to_csv(\"daily_FRECON_master.csv\", index=False)"
   ]
  }
 ],
 "metadata": {
  "kernelspec": {
   "display_name": "Python [conda env:base] *",
   "language": "python",
   "name": "conda-base-py"
  },
  "language_info": {
   "codemirror_mode": {
    "name": "ipython",
    "version": 3
   },
   "file_extension": ".py",
   "mimetype": "text/x-python",
   "name": "python",
   "nbconvert_exporter": "python",
   "pygments_lexer": "ipython3",
   "version": "3.12.7"
  }
 },
 "nbformat": 4,
 "nbformat_minor": 5
}
