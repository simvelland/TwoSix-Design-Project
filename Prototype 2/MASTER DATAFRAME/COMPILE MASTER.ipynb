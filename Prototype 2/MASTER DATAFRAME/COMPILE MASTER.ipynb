{
 "cells": [
  {
   "cell_type": "code",
   "execution_count": 26,
   "id": "c2ce1164-7d8c-485d-bf85-fa78d62934d2",
   "metadata": {},
   "outputs": [],
   "source": [
    "import pandas as pd\n",
    "import requests"
   ]
  },
  {
   "cell_type": "code",
   "execution_count": 6,
   "id": "0f6cbd33-61cb-4c91-8654-d975e821c423",
   "metadata": {},
   "outputs": [],
   "source": [
    "DeCrescent = pd.read_csv(\"C:/Users/simon/OneDrive/Documents/CUA COURSES/ENGR 441 & 442/Prototype 2/DeCrescent/daily_DeCrescent_master.csv\")\n",
    "Feuerwehr = pd.read_csv(\"C:/Users/simon/OneDrive/Documents/CUA COURSES/ENGR 441 & 442/Prototype 2/Feuerwehr/daily_Feuerwehr_master.csv\")\n",
    "HLT1 = pd.read_csv(\"C:/Users/simon/OneDrive/Documents/CUA COURSES/ENGR 441 & 442/Prototype 2/HLT1/daily_HLT1_Klagenfurt_Lastenstrasse_master.csv\")\n",
    "MAWC = pd.read_csv(\"C:/Users/simon/OneDrive/Documents/CUA COURSES/ENGR 441 & 442/Prototype 2/MAWC CocaCola/daily_MAWC_master.csv\")\n",
    "Nugali = pd.read_csv(\"C:/Users/simon/OneDrive/Documents/CUA COURSES/ENGR 441 & 442/Prototype 2/Nugali/daily_Nugali_master.csv\")\n",
    "Pentaari = pd.read_csv(\"C:/Users/simon/OneDrive/Documents/CUA COURSES/ENGR 441 & 442/Prototype 2/Pentaari/daily_Pentaari_master.csv\")\n",
    "Schipper = pd.read_csv(\"C:/Users/simon/OneDrive/Documents/CUA COURSES/ENGR 441 & 442/Prototype 2/Schipper Power/daily_Schipper Power- Three_master.csv\")\n",
    "sirisD = pd.read_csv(\"C:/Users/simon/OneDrive/Documents/CUA COURSES/ENGR 441 & 442/Prototype 2/siris-D-500kW/daily_siris-D_master.csv\")\n",
    "ww = pd.read_csv(\"C:/Users/simon/OneDrive/Documents/CUA COURSES/ENGR 441 & 442/Prototype 2/Wannon Water/daily_Wannon Water_master.csv\")\n",
    "wray = pd.read_csv(\"C:/Users/simon/OneDrive/Documents/CUA COURSES/ENGR 441 & 442/Prototype 2/Wray Farms/daily_Wray_Farms_Solar_System_master.csv\")"
   ]
  },
  {
   "cell_type": "code",
   "execution_count": 8,
   "id": "a9430edb-c2d4-4649-b8db-9c3ab4f2ae24",
   "metadata": {},
   "outputs": [],
   "source": [
    "master_df = pd.concat([DeCrescent, Feuerwehr, HLT1, MAWC, Nugali, Pentaari, Schipper, sirisD, ww, wray], ignore_index=True)\n",
    "master_df['Date'] = pd.to_datetime(master_df['Date'])\n",
    "master_df = master_df.sort_values(by='Date')"
   ]
  },
  {
   "cell_type": "code",
   "execution_count": 10,
   "id": "446f5b10-4fb8-47d1-99f7-b06708902796",
   "metadata": {},
   "outputs": [
    {
     "name": "stdout",
     "output_type": "stream",
     "text": [
      "Index(['Date', 'Generated', 'Efficiency', 'System Name', 'Location',\n",
      "       'System Size (kW)'],\n",
      "      dtype='object')\n"
     ]
    }
   ],
   "source": [
    "print(master_df.columns)"
   ]
  },
  {
   "cell_type": "code",
   "execution_count": 12,
   "id": "52905fa4-9faf-41d8-b774-ec2c21073189",
   "metadata": {},
   "outputs": [],
   "source": [
    "master_df['Generated'] = (\n",
    "    master_df['Generated'].astype(str).str.replace('kWh', '', regex=False).str.replace(',', '')\n",
    "    .astype(float)\n",
    ")"
   ]
  },
  {
   "cell_type": "code",
   "execution_count": 14,
   "id": "f766089b-ada0-4f61-9088-22a9af815b55",
   "metadata": {},
   "outputs": [],
   "source": [
    "master_df = master_df.rename(columns={'Generated': 'Generated (kWh)'})"
   ]
  },
  {
   "cell_type": "code",
   "execution_count": 18,
   "id": "0c430744-a9d9-4158-bbe1-19df1c3545b3",
   "metadata": {},
   "outputs": [],
   "source": [
    "master_df.to_csv(\"MASTER_system_data.csv\", index=False)"
   ]
  },
  {
   "cell_type": "code",
   "execution_count": 20,
   "id": "5d131567-8997-49b2-9411-1562c8fc9554",
   "metadata": {},
   "outputs": [],
   "source": [
    "systems = [\n",
    "    {\"name\": \"siris-D-500kW\", \"lat\": 40.912535, \"lon\": 23.911660},\n",
    "    {\"name\": \"Schipper Power - Three\", \"lat\": 52.418746, \"lon\": 5.401354},\n",
    "    {\"name\": \"Pentaari\", \"lat\": 40.468917, \"lon\": 21.219645},\n",
    "    {\"name\": \"MAWC CocaCola\", \"lat\": 4.375234, \"lon\": 73.648900},\n",
    "    {\"name\": \"Wannon Water\", \"lat\": -38.358293, \"lon\": 142.442208},\n",
    "    {\"name\": \"DeCrescent\", \"lat\": 2.915812, \"lon\": -73.705485},\n",
    "    {\"name\": \"Nugali\", \"lat\": -26.677069, \"lon\": -49.182773},\n",
    "    {\"name\": \"HTL1 Klagenfurt\", \"lat\": 46.620340, \"lon\": 14.315173},\n",
    "    {\"name\": \"Wray Farms\", \"lat\": 52.800070, \"lon\": -0.159891},\n",
    "    {\"name\": \"Feuerwehr\", \"lat\": 47.537083, \"lon\": 8.730144}\n",
    "]"
   ]
  },
  {
   "cell_type": "code",
   "execution_count": 34,
   "id": "1d645054-1c98-496e-9b51-527433c901d6",
   "metadata": {},
   "outputs": [],
   "source": [
    "start_date = \"2023-09-22\"\n",
    "end_date = \"2025-03-30\"\n",
    "\n",
    "def fetch_weather(lat, lon, name):\n",
    "    url = \"https://archive-api.open-meteo.com/v1/archive\"\n",
    "    params = {\n",
    "        \"latitude\": lat,\n",
    "        \"longitude\": lon,\n",
    "        \"start_date\": start_date,\n",
    "        \"end_date\": end_date,\n",
    "        \"daily\": \"shortwave_radiation_sum,temperature_2m_mean,cloudcover_mean\",\n",
    "        \"timezone\": \"auto\"\n",
    "    }\n",
    "\n",
    "    response = requests.get(url, params=params)\n",
    "    data = response.json()\n",
    "\n",
    "    df = pd.DataFrame({\n",
    "        \"Date\": data[\"daily\"][\"time\"],\n",
    "        \"Solar_Irradiance\": data[\"daily\"][\"shortwave_radiation_sum\"],\n",
    "        \"Temperature_2m\": data[\"daily\"][\"temperature_2m_mean\"],\n",
    "        \"Cloud_Cover\": data[\"daily\"][\"cloudcover_mean\"],\n",
    "    })\n",
    "\n",
    "    df[\"System Name\"] = name\n",
    "    return df"
   ]
  },
  {
   "cell_type": "code",
   "execution_count": 36,
   "id": "1228bded-440f-4e83-a0d5-5aa95d115352",
   "metadata": {},
   "outputs": [
    {
     "name": "stdout",
     "output_type": "stream",
     "text": [
      "Fetching weather for siris-D-500kW\n",
      "Fetching weather for Schipper Power - Three\n",
      "Fetching weather for Pentaari\n",
      "Fetching weather for MAWC CocaCola\n",
      "Fetching weather for Wannon Water\n",
      "Fetching weather for DeCrescent\n",
      "Fetching weather for Nugali\n",
      "Fetching weather for HTL1 Klagenfurt\n",
      "Fetching weather for Wray Farms\n",
      "Fetching weather for Feuerwehr\n"
     ]
    }
   ],
   "source": [
    "weather_frames = []\n",
    "\n",
    "for system in systems:\n",
    "    print(f\"Fetching weather for {system['name']}\")\n",
    "    df = fetch_weather(system[\"lat\"], system[\"lon\"], system[\"name\"])\n",
    "    weather_frames.append(df)\n",
    "\n",
    "weather_df = pd.concat(weather_frames, ignore_index=True)\n",
    "weather_df[\"Date\"] = pd.to_datetime(weather_df[\"Date\"])"
   ]
  },
  {
   "cell_type": "code",
   "execution_count": 38,
   "id": "28cd53d2-0aea-41e6-a66e-55bdddd145c6",
   "metadata": {},
   "outputs": [],
   "source": [
    "merged_df = pd.merge(master_df, weather_df, how=\"left\", on=[\"Date\", \"System Name\"])"
   ]
  },
  {
   "cell_type": "code",
   "execution_count": 40,
   "id": "c4ec83ae-6b1c-4722-a92e-5ae83eb88ddf",
   "metadata": {},
   "outputs": [
    {
     "data": {
      "text/html": [
       "<div>\n",
       "<style scoped>\n",
       "    .dataframe tbody tr th:only-of-type {\n",
       "        vertical-align: middle;\n",
       "    }\n",
       "\n",
       "    .dataframe tbody tr th {\n",
       "        vertical-align: top;\n",
       "    }\n",
       "\n",
       "    .dataframe thead th {\n",
       "        text-align: right;\n",
       "    }\n",
       "</style>\n",
       "<table border=\"1\" class=\"dataframe\">\n",
       "  <thead>\n",
       "    <tr style=\"text-align: right;\">\n",
       "      <th></th>\n",
       "      <th>Date</th>\n",
       "      <th>Generated (kWh)</th>\n",
       "      <th>Efficiency</th>\n",
       "      <th>System Name</th>\n",
       "      <th>Location</th>\n",
       "      <th>System Size (kW)</th>\n",
       "      <th>Solar_Irradiance</th>\n",
       "      <th>Temperature_2m</th>\n",
       "      <th>Cloud_Cover</th>\n",
       "    </tr>\n",
       "  </thead>\n",
       "  <tbody>\n",
       "    <tr>\n",
       "      <th>0</th>\n",
       "      <td>2023-09-22</td>\n",
       "      <td>180.330</td>\n",
       "      <td>3.6066</td>\n",
       "      <td>Wray Farms</td>\n",
       "      <td>United Kingdom</td>\n",
       "      <td>50.0</td>\n",
       "      <td>13.88</td>\n",
       "      <td>12.6</td>\n",
       "      <td>49.0</td>\n",
       "    </tr>\n",
       "    <tr>\n",
       "      <th>1</th>\n",
       "      <td>2023-09-23</td>\n",
       "      <td>140.380</td>\n",
       "      <td>2.8076</td>\n",
       "      <td>Wray Farms</td>\n",
       "      <td>United Kingdom</td>\n",
       "      <td>50.0</td>\n",
       "      <td>12.45</td>\n",
       "      <td>12.9</td>\n",
       "      <td>41.0</td>\n",
       "    </tr>\n",
       "    <tr>\n",
       "      <th>2</th>\n",
       "      <td>2023-09-24</td>\n",
       "      <td>86.931</td>\n",
       "      <td>1.73862</td>\n",
       "      <td>Wray Farms</td>\n",
       "      <td>United Kingdom</td>\n",
       "      <td>50.0</td>\n",
       "      <td>7.79</td>\n",
       "      <td>16.9</td>\n",
       "      <td>97.0</td>\n",
       "    </tr>\n",
       "    <tr>\n",
       "      <th>3</th>\n",
       "      <td>2023-09-25</td>\n",
       "      <td>171.482</td>\n",
       "      <td>3.42964</td>\n",
       "      <td>Wray Farms</td>\n",
       "      <td>United Kingdom</td>\n",
       "      <td>50.0</td>\n",
       "      <td>13.06</td>\n",
       "      <td>17.4</td>\n",
       "      <td>59.0</td>\n",
       "    </tr>\n",
       "    <tr>\n",
       "      <th>4</th>\n",
       "      <td>2023-09-26</td>\n",
       "      <td>123.231</td>\n",
       "      <td>2.46462</td>\n",
       "      <td>Wray Farms</td>\n",
       "      <td>United Kingdom</td>\n",
       "      <td>50.0</td>\n",
       "      <td>9.27</td>\n",
       "      <td>16.1</td>\n",
       "      <td>74.0</td>\n",
       "    </tr>\n",
       "    <tr>\n",
       "      <th>...</th>\n",
       "      <td>...</td>\n",
       "      <td>...</td>\n",
       "      <td>...</td>\n",
       "      <td>...</td>\n",
       "      <td>...</td>\n",
       "      <td>...</td>\n",
       "      <td>...</td>\n",
       "      <td>...</td>\n",
       "      <td>...</td>\n",
       "    </tr>\n",
       "    <tr>\n",
       "      <th>95</th>\n",
       "      <td>2023-12-26</td>\n",
       "      <td>43.366</td>\n",
       "      <td>0.86732</td>\n",
       "      <td>Wray Farms</td>\n",
       "      <td>United Kingdom</td>\n",
       "      <td>50.0</td>\n",
       "      <td>3.16</td>\n",
       "      <td>6.4</td>\n",
       "      <td>52.0</td>\n",
       "    </tr>\n",
       "    <tr>\n",
       "      <th>96</th>\n",
       "      <td>2023-12-27</td>\n",
       "      <td>2.788</td>\n",
       "      <td>0.05576</td>\n",
       "      <td>Wray Farms</td>\n",
       "      <td>United Kingdom</td>\n",
       "      <td>50.0</td>\n",
       "      <td>0.39</td>\n",
       "      <td>8.6</td>\n",
       "      <td>91.0</td>\n",
       "    </tr>\n",
       "    <tr>\n",
       "      <th>97</th>\n",
       "      <td>2023-12-28</td>\n",
       "      <td>24.289</td>\n",
       "      <td>0.48578</td>\n",
       "      <td>Wray Farms</td>\n",
       "      <td>United Kingdom</td>\n",
       "      <td>50.0</td>\n",
       "      <td>2.47</td>\n",
       "      <td>9.9</td>\n",
       "      <td>75.0</td>\n",
       "    </tr>\n",
       "    <tr>\n",
       "      <th>98</th>\n",
       "      <td>2023-12-29</td>\n",
       "      <td>33.550</td>\n",
       "      <td>0.671</td>\n",
       "      <td>Wray Farms</td>\n",
       "      <td>United Kingdom</td>\n",
       "      <td>50.0</td>\n",
       "      <td>2.04</td>\n",
       "      <td>7.2</td>\n",
       "      <td>42.0</td>\n",
       "    </tr>\n",
       "    <tr>\n",
       "      <th>99</th>\n",
       "      <td>2023-12-30</td>\n",
       "      <td>9.800</td>\n",
       "      <td>0.196</td>\n",
       "      <td>Wray Farms</td>\n",
       "      <td>United Kingdom</td>\n",
       "      <td>50.0</td>\n",
       "      <td>0.63</td>\n",
       "      <td>7.5</td>\n",
       "      <td>96.0</td>\n",
       "    </tr>\n",
       "  </tbody>\n",
       "</table>\n",
       "<p>100 rows × 9 columns</p>\n",
       "</div>"
      ],
      "text/plain": [
       "         Date  Generated (kWh) Efficiency System Name        Location  \\\n",
       "0  2023-09-22          180.330     3.6066  Wray Farms  United Kingdom   \n",
       "1  2023-09-23          140.380     2.8076  Wray Farms  United Kingdom   \n",
       "2  2023-09-24           86.931    1.73862  Wray Farms  United Kingdom   \n",
       "3  2023-09-25          171.482    3.42964  Wray Farms  United Kingdom   \n",
       "4  2023-09-26          123.231    2.46462  Wray Farms  United Kingdom   \n",
       "..        ...              ...        ...         ...             ...   \n",
       "95 2023-12-26           43.366    0.86732  Wray Farms  United Kingdom   \n",
       "96 2023-12-27            2.788    0.05576  Wray Farms  United Kingdom   \n",
       "97 2023-12-28           24.289    0.48578  Wray Farms  United Kingdom   \n",
       "98 2023-12-29           33.550      0.671  Wray Farms  United Kingdom   \n",
       "99 2023-12-30            9.800      0.196  Wray Farms  United Kingdom   \n",
       "\n",
       "    System Size (kW)  Solar_Irradiance  Temperature_2m  Cloud_Cover  \n",
       "0               50.0             13.88            12.6         49.0  \n",
       "1               50.0             12.45            12.9         41.0  \n",
       "2               50.0              7.79            16.9         97.0  \n",
       "3               50.0             13.06            17.4         59.0  \n",
       "4               50.0              9.27            16.1         74.0  \n",
       "..               ...               ...             ...          ...  \n",
       "95              50.0              3.16             6.4         52.0  \n",
       "96              50.0              0.39             8.6         91.0  \n",
       "97              50.0              2.47             9.9         75.0  \n",
       "98              50.0              2.04             7.2         42.0  \n",
       "99              50.0              0.63             7.5         96.0  \n",
       "\n",
       "[100 rows x 9 columns]"
      ]
     },
     "execution_count": 40,
     "metadata": {},
     "output_type": "execute_result"
    }
   ],
   "source": [
    "merged_df.head(100)"
   ]
  },
  {
   "cell_type": "code",
   "execution_count": 78,
   "id": "83acb4e7-cb4f-446a-8a78-8cc28acb2120",
   "metadata": {},
   "outputs": [],
   "source": [
    "dc_weather = pd.read_csv(\"DeCrescent_Weather.csv\")\n",
    "htl1_weather = pd.read_csv(\"HTL1_Weather.csv\")\n",
    "mawc_weather = pd.read_csv(\"MAWC_Weather.csv\")\n",
    "sp3_weather = pd.read_csv(\"Schipper Power- Three_Weather.csv\")"
   ]
  },
  {
   "cell_type": "code",
   "execution_count": 82,
   "id": "7cec90a4-b20c-4b14-bcfa-c3af0b9a5369",
   "metadata": {},
   "outputs": [
    {
     "name": "stdout",
     "output_type": "stream",
     "text": [
      "Index(['Date', 'Solar_Irradiance', 'Cloud_Cover', 'Temperature_2m',\n",
      "       'System Name'],\n",
      "      dtype='object')\n"
     ]
    }
   ],
   "source": [
    "temp = pd.concat([dc_weather, htl1_weather, mawc_weather, sp3_weather], ignore_index=True)\n",
    "temp = temp.rename(columns={\"time\": \"Date\", \"shortwave_radiation_sum (MJ/m²)\": \"Solar_Irradiance\", \"cloud_cover_mean (%)\": \"Cloud_Cover\", \"temperature_2m_mean (°C)\": \"Temperature_2m\"})\n",
    "temp[\"Date\"] = pd.to_datetime(temp[\"Date\"])\n",
    "print(temp.columns)"
   ]
  },
  {
   "cell_type": "code",
   "execution_count": 118,
   "id": "693a2b94-b5cf-43fe-9483-4a987838d3c5",
   "metadata": {},
   "outputs": [],
   "source": [
    "# Step 1: Merge on Date and System Name — but avoid duplicate columns\n",
    "merged = pd.merge(\n",
    "    merged_df,\n",
    "    temp,\n",
    "    how=\"left\",\n",
    "    on=[\"Date\", \"System Name\"],\n",
    "    suffixes=(\"\", \"_new\")\n",
    ")\n",
    "\n",
    "# Step 2: Fill missing values in the original columns with the _new columns\n",
    "for col in [\"Temperature_2m\", \"Cloud_Cover\", \"Solar_Irradiance\"]:\n",
    "    if f\"{col}_new\" in merged.columns:\n",
    "        merged[col] = merged[col].combine_first(merged[f\"{col}_new\"])\n",
    "        merged.drop(columns=[f\"{col}_new\"], inplace=True)\n",
    "\n",
    "# Step 3: Done — your dataframe is now updated\n",
    "merged_df = merged"
   ]
  },
  {
   "cell_type": "code",
   "execution_count": null,
   "id": "34317ba4-a950-49d5-a97d-6f156579a047",
   "metadata": {},
   "outputs": [],
   "source": [
    "merged_df.to_csv(\"MASTER_system_and_weather.csv\", index=False)"
   ]
  }
 ],
 "metadata": {
  "kernelspec": {
   "display_name": "Python [conda env:base] *",
   "language": "python",
   "name": "conda-base-py"
  },
  "language_info": {
   "codemirror_mode": {
    "name": "ipython",
    "version": 3
   },
   "file_extension": ".py",
   "mimetype": "text/x-python",
   "name": "python",
   "nbconvert_exporter": "python",
   "pygments_lexer": "ipython3",
   "version": "3.12.7"
  }
 },
 "nbformat": 4,
 "nbformat_minor": 5
}
