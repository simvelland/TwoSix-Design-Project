{
 "cells": [
  {
   "cell_type": "code",
   "execution_count": 1,
   "id": "e5b3fe75-5c6c-4906-b3fd-7a0fefc50e78",
   "metadata": {},
   "outputs": [],
   "source": [
    "from selenium import webdriver\n",
    "from selenium.webdriver.chrome.service import Service\n",
    "from selenium.webdriver.chrome.options import Options\n",
    "from bs4 import BeautifulSoup\n",
    "import pandas as pd\n",
    "import time"
   ]
  },
  {
   "cell_type": "code",
   "execution_count": 33,
   "id": "e8f2c047-667d-412c-9b44-5c9f47203f61",
   "metadata": {},
   "outputs": [],
   "source": [
    "system_name = \"MAWC\"\n",
    "location = \"Maldives\"\n",
    "base_url = \"https://pvoutput.org/list.jsp?p={}&id=47770&sid=43531&gs=0&v=0&o=date&d=desc\"\n",
    "pages_to_scrape = 5"
   ]
  },
  {
   "cell_type": "code",
   "execution_count": 39,
   "id": "e9fea872-df12-4047-ad42-77b9ed788ec0",
   "metadata": {},
   "outputs": [],
   "source": [
    "options = Options()\n",
    "options.binary_location = r\"C:\\Program Files\\chrome for testing\\chrome-win64\\chrome.exe\"\n",
    "options.add_argument(\"--headless=new\")\n",
    "options.add_argument(\"--disable-gpu\")\n",
    "options.add_argument(\"--window-size=1920,1080\")\n",
    "options.add_argument(\"user-agent=Mozilla/5.0 (Windows NT 10.0; Win64; x64) AppleWebKit/537.36 (KHTML, like Gecko) Chrome/134.0.0.0 Safari/537.36\")\n",
    "service = Service(executable_path=r\"C:\\Program Files\\chrome for testing\\chrome-win64\\chromedriver.exe\")\n",
    "driver = webdriver.Chrome(service=service, options=options)"
   ]
  },
  {
   "cell_type": "code",
   "execution_count": 40,
   "id": "4756ac87-03b0-4913-830d-c98c577a5020",
   "metadata": {},
   "outputs": [
    {
     "name": "stdout",
     "output_type": "stream",
     "text": [
      "📄 Scraping page 1 from: https://pvoutput.org/list.jsp?p=0&id=47770&sid=43531&gs=0&v=0&o=date&d=desc\n",
      "📄 Scraping page 2 from: https://pvoutput.org/list.jsp?p=1&id=47770&sid=43531&gs=0&v=0&o=date&d=desc\n",
      "📄 Scraping page 3 from: https://pvoutput.org/list.jsp?p=2&id=47770&sid=43531&gs=0&v=0&o=date&d=desc\n",
      "📄 Scraping page 4 from: https://pvoutput.org/list.jsp?p=3&id=47770&sid=43531&gs=0&v=0&o=date&d=desc\n",
      "📄 Scraping page 5 from: https://pvoutput.org/list.jsp?p=4&id=47770&sid=43531&gs=0&v=0&o=date&d=desc\n"
     ]
    }
   ],
   "source": [
    "all_data = []\n",
    "\n",
    "for page in range(pages_to_scrape):\n",
    "    url = base_url.format(page)\n",
    "    print(f\"📄 Scraping page {page + 1} from: {url}\")\n",
    "    \n",
    "    try:\n",
    "        driver.get(url)\n",
    "        time.sleep(6)\n",
    "        soup = BeautifulSoup(driver.page_source, \"html.parser\")\n",
    "        table = soup.find(\"table\", id=\"tbl_main\")\n",
    "\n",
    "        if not table:\n",
    "            print(f\"⚠️ No table found on page {page + 1}. Retrying once...\")\n",
    "            time.sleep(5)\n",
    "            driver.get(url)\n",
    "            soup = BeautifulSoup(driver.page_source, \"html.parser\")\n",
    "            table = soup.find(\"table\", id=\"tbl_main\")\n",
    "\n",
    "        if table:\n",
    "            rows = table.find_all(\"tr\")[1:]\n",
    "            for row in rows:\n",
    "                cols = [td.get_text(strip=True).replace(',', '') for td in row.find_all(\"td\")]\n",
    "                if len(cols) >= 9:\n",
    "                    cols.append(system_name)\n",
    "                    cols.append(location)\n",
    "                    all_data.append(cols)\n",
    "        else:\n",
    "            print(f\"❌ Failed again: No table found on page {page + 1}\")\n",
    "    except Exception as e:\n",
    "        print(f\"🚨 Error scraping page {page + 1}: {e}\")\n",
    "\n",
    "driver.quit()"
   ]
  },
  {
   "cell_type": "code",
   "execution_count": 43,
   "id": "54b9ae65-3e82-4c73-afdc-6f959f06bca8",
   "metadata": {},
   "outputs": [],
   "source": [
    "header = [\n",
    "    \"Date\", \"Generated\", \"Efficiency\", \"Exported\", \"Peak Power\",\n",
    "    \"Peak Time\", \"Conditions\", \"Temperature\", \"Comments\",\n",
    "    \"System Name\", \"Location\"\n",
    "]"
   ]
  },
  {
   "cell_type": "code",
   "execution_count": 45,
   "id": "783969b2-e316-4940-84ef-cbda6b0b562f",
   "metadata": {},
   "outputs": [
    {
     "name": "stdout",
     "output_type": "stream",
     "text": [
      "       Date    Generated   Efficiency System Name  Location\n",
      "0  31/03/25     0.000kWh  0.000kWh/kW        MAWC  Maldives\n",
      "1  30/03/25  1433.968kWh  3.417kWh/kW        MAWC  Maldives\n",
      "2  29/03/25  1947.200kWh  4.640kWh/kW        MAWC  Maldives\n",
      "3  28/03/25   634.879kWh  1.513kWh/kW        MAWC  Maldives\n",
      "4  27/03/25  1898.824kWh  4.525kWh/kW        MAWC  Maldives\n"
     ]
    }
   ],
   "source": [
    "df = pd.DataFrame(all_data, columns=header)\n",
    "df.drop(columns=[\"Exported\", \"Temperature\", \"Comments\", \"Peak Power\", \"Peak Time\", \"Conditions\"], inplace=True)\n",
    "print(df.head())"
   ]
  },
  {
   "cell_type": "code",
   "execution_count": 47,
   "id": "9800cb45-383a-4d28-9714-2bd482f375e1",
   "metadata": {},
   "outputs": [],
   "source": [
    "page6 = pd.read_csv(\"MAWC_page6.csv\")\n",
    "page7 = pd.read_csv(\"MAWC_page7.csv\")\n",
    "page8 = pd.read_csv(\"MAWC_page8.csv\")\n",
    "page9 = pd.read_csv(\"MAWC_page9.csv\")\n",
    "page10 = pd.read_csv(\"MAWC_page10.csv\")"
   ]
  },
  {
   "cell_type": "code",
   "execution_count": 49,
   "id": "a48a5d05-42b2-4534-88d1-36472d49cd72",
   "metadata": {},
   "outputs": [],
   "source": [
    "page6[\"System Name\"] = \"MAWC\"\n",
    "page6[\"Location\"] = \"Maldives\"\n",
    "page7[\"System Name\"] = \"MAWC\"\n",
    "page7[\"Location\"] = \"Maldives\"\n",
    "page8[\"System Name\"] = \"MAWC\"\n",
    "page8[\"Location\"] = \"Maldives\"\n",
    "page9[\"System Name\"] = \"MAWC\"\n",
    "page9[\"Location\"] = \"Maldives\"\n",
    "page10[\"System Name\"] = \"MAWC\"\n",
    "page10[\"Location\"] = \"Maldives\""
   ]
  },
  {
   "cell_type": "code",
   "execution_count": 51,
   "id": "a9ce7943-177b-416e-b730-1d87bf1d6206",
   "metadata": {},
   "outputs": [],
   "source": [
    "master_df = pd.concat([df, page6, page7, page8, page9, page10], ignore_index=True)"
   ]
  },
  {
   "cell_type": "code",
   "execution_count": 53,
   "id": "9b400b73-2c53-4f45-a50d-05cb75fa6326",
   "metadata": {},
   "outputs": [
    {
     "data": {
      "text/html": [
       "<div>\n",
       "<style scoped>\n",
       "    .dataframe tbody tr th:only-of-type {\n",
       "        vertical-align: middle;\n",
       "    }\n",
       "\n",
       "    .dataframe tbody tr th {\n",
       "        vertical-align: top;\n",
       "    }\n",
       "\n",
       "    .dataframe thead th {\n",
       "        text-align: right;\n",
       "    }\n",
       "</style>\n",
       "<table border=\"1\" class=\"dataframe\">\n",
       "  <thead>\n",
       "    <tr style=\"text-align: right;\">\n",
       "      <th></th>\n",
       "      <th>Date</th>\n",
       "      <th>Generated</th>\n",
       "      <th>Efficiency</th>\n",
       "      <th>System Name</th>\n",
       "      <th>Location</th>\n",
       "    </tr>\n",
       "  </thead>\n",
       "  <tbody>\n",
       "    <tr>\n",
       "      <th>0</th>\n",
       "      <td>31/03/25</td>\n",
       "      <td>0.000kWh</td>\n",
       "      <td>0.000kWh/kW</td>\n",
       "      <td>MAWC</td>\n",
       "      <td>Maldives</td>\n",
       "    </tr>\n",
       "    <tr>\n",
       "      <th>1</th>\n",
       "      <td>30/03/25</td>\n",
       "      <td>1433.968kWh</td>\n",
       "      <td>3.417kWh/kW</td>\n",
       "      <td>MAWC</td>\n",
       "      <td>Maldives</td>\n",
       "    </tr>\n",
       "    <tr>\n",
       "      <th>2</th>\n",
       "      <td>29/03/25</td>\n",
       "      <td>1947.200kWh</td>\n",
       "      <td>4.640kWh/kW</td>\n",
       "      <td>MAWC</td>\n",
       "      <td>Maldives</td>\n",
       "    </tr>\n",
       "    <tr>\n",
       "      <th>3</th>\n",
       "      <td>28/03/25</td>\n",
       "      <td>634.879kWh</td>\n",
       "      <td>1.513kWh/kW</td>\n",
       "      <td>MAWC</td>\n",
       "      <td>Maldives</td>\n",
       "    </tr>\n",
       "    <tr>\n",
       "      <th>4</th>\n",
       "      <td>27/03/25</td>\n",
       "      <td>1898.824kWh</td>\n",
       "      <td>4.525kWh/kW</td>\n",
       "      <td>MAWC</td>\n",
       "      <td>Maldives</td>\n",
       "    </tr>\n",
       "    <tr>\n",
       "      <th>...</th>\n",
       "      <td>...</td>\n",
       "      <td>...</td>\n",
       "      <td>...</td>\n",
       "      <td>...</td>\n",
       "      <td>...</td>\n",
       "    </tr>\n",
       "    <tr>\n",
       "      <th>395</th>\n",
       "      <td>3/1/2024</td>\n",
       "      <td>553.645kWh</td>\n",
       "      <td>1.319365</td>\n",
       "      <td>MAWC</td>\n",
       "      <td>Maldives</td>\n",
       "    </tr>\n",
       "    <tr>\n",
       "      <th>396</th>\n",
       "      <td>2/29/2024</td>\n",
       "      <td>1684.881kWh</td>\n",
       "      <td>4.015159</td>\n",
       "      <td>MAWC</td>\n",
       "      <td>Maldives</td>\n",
       "    </tr>\n",
       "    <tr>\n",
       "      <th>397</th>\n",
       "      <td>2/28/2024</td>\n",
       "      <td>1920.269kWh</td>\n",
       "      <td>4.5761</td>\n",
       "      <td>MAWC</td>\n",
       "      <td>Maldives</td>\n",
       "    </tr>\n",
       "    <tr>\n",
       "      <th>398</th>\n",
       "      <td>2/27/2024</td>\n",
       "      <td>1759.329kWh</td>\n",
       "      <td>4.192572</td>\n",
       "      <td>MAWC</td>\n",
       "      <td>Maldives</td>\n",
       "    </tr>\n",
       "    <tr>\n",
       "      <th>399</th>\n",
       "      <td>2/26/2024</td>\n",
       "      <td>2061.171kWh</td>\n",
       "      <td>4.911877</td>\n",
       "      <td>MAWC</td>\n",
       "      <td>Maldives</td>\n",
       "    </tr>\n",
       "  </tbody>\n",
       "</table>\n",
       "<p>400 rows × 5 columns</p>\n",
       "</div>"
      ],
      "text/plain": [
       "          Date    Generated   Efficiency System Name  Location\n",
       "0     31/03/25     0.000kWh  0.000kWh/kW        MAWC  Maldives\n",
       "1     30/03/25  1433.968kWh  3.417kWh/kW        MAWC  Maldives\n",
       "2     29/03/25  1947.200kWh  4.640kWh/kW        MAWC  Maldives\n",
       "3     28/03/25   634.879kWh  1.513kWh/kW        MAWC  Maldives\n",
       "4     27/03/25  1898.824kWh  4.525kWh/kW        MAWC  Maldives\n",
       "..         ...          ...          ...         ...       ...\n",
       "395   3/1/2024   553.645kWh     1.319365        MAWC  Maldives\n",
       "396  2/29/2024  1684.881kWh     4.015159        MAWC  Maldives\n",
       "397  2/28/2024  1920.269kWh       4.5761        MAWC  Maldives\n",
       "398  2/27/2024  1759.329kWh     4.192572        MAWC  Maldives\n",
       "399  2/26/2024  2061.171kWh     4.911877        MAWC  Maldives\n",
       "\n",
       "[400 rows x 5 columns]"
      ]
     },
     "execution_count": 53,
     "metadata": {},
     "output_type": "execute_result"
    }
   ],
   "source": [
    "master_df"
   ]
  },
  {
   "cell_type": "code",
   "execution_count": 55,
   "id": "18e86b5d-359c-4326-8ff6-7c66160bd8e5",
   "metadata": {},
   "outputs": [],
   "source": [
    "master_df[\"System Size (kW)\"] = 419.630"
   ]
  },
  {
   "cell_type": "code",
   "execution_count": 57,
   "id": "b185d6ff-81f0-4369-8a06-b1b44c50e1da",
   "metadata": {},
   "outputs": [],
   "source": [
    "master_df.to_csv(\"daily_MAWC_master.csv\", index=False)"
   ]
  }
 ],
 "metadata": {
  "kernelspec": {
   "display_name": "Python [conda env:base] *",
   "language": "python",
   "name": "conda-base-py"
  },
  "language_info": {
   "codemirror_mode": {
    "name": "ipython",
    "version": 3
   },
   "file_extension": ".py",
   "mimetype": "text/x-python",
   "name": "python",
   "nbconvert_exporter": "python",
   "pygments_lexer": "ipython3",
   "version": "3.12.7"
  }
 },
 "nbformat": 4,
 "nbformat_minor": 5
}
