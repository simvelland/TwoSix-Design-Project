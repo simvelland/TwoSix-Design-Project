{
 "cells": [
  {
   "cell_type": "code",
   "execution_count": 1,
   "id": "2f8a0a0d-ee69-4dde-b6c4-31fb7fdac3a7",
   "metadata": {},
   "outputs": [],
   "source": [
    "from selenium import webdriver\n",
    "from selenium.webdriver.chrome.service import Service\n",
    "from selenium.webdriver.chrome.options import Options\n",
    "from bs4 import BeautifulSoup\n",
    "import pandas as pd\n",
    "import time"
   ]
  },
  {
   "cell_type": "code",
   "execution_count": 2,
   "id": "52225186-b9cb-43e5-b933-e491e98c9b6f",
   "metadata": {},
   "outputs": [],
   "source": [
    "system_name = \"Wray Farms\"\n",
    "location = \"United Kingdom\"\n",
    "base_url = \"https://pvoutput.org/list.jsp?p={}&id=13666&sid=11542&gs=0&v=0&o=date&d=desc\"\n",
    "pages_to_scrape = 5"
   ]
  },
  {
   "cell_type": "code",
   "execution_count": 3,
   "id": "2b96b8f2-a7bc-4852-a0c2-2ad1f5f40191",
   "metadata": {},
   "outputs": [],
   "source": [
    "options = Options()\n",
    "options.binary_location = r\"C:\\Program Files\\chrome for testing\\chrome-win64\\chrome.exe\"\n",
    "options.add_argument(\"--headless=new\")\n",
    "options.add_argument(\"--disable-gpu\")\n",
    "options.add_argument(\"--window-size=1920,1080\")\n",
    "options.add_argument(\"user-agent=Mozilla/5.0 (Windows NT 10.0; Win64; x64) AppleWebKit/537.36 (KHTML, like Gecko) Chrome/134.0.0.0 Safari/537.36\")\n",
    "service = Service(executable_path=r\"C:\\Program Files\\chrome for testing\\chrome-win64\\chromedriver.exe\")\n",
    "driver = webdriver.Chrome(service=service, options=options)"
   ]
  },
  {
   "cell_type": "code",
   "execution_count": 4,
   "id": "250cdca0-3a4a-4f01-a361-6157faf5faf9",
   "metadata": {},
   "outputs": [
    {
     "name": "stdout",
     "output_type": "stream",
     "text": [
      "📄 Scraping page 1 from: https://pvoutput.org/list.jsp?p=0&id=13666&sid=11542&gs=0&v=0&o=date&d=desc\n",
      "📄 Scraping page 2 from: https://pvoutput.org/list.jsp?p=1&id=13666&sid=11542&gs=0&v=0&o=date&d=desc\n",
      "📄 Scraping page 3 from: https://pvoutput.org/list.jsp?p=2&id=13666&sid=11542&gs=0&v=0&o=date&d=desc\n",
      "📄 Scraping page 4 from: https://pvoutput.org/list.jsp?p=3&id=13666&sid=11542&gs=0&v=0&o=date&d=desc\n",
      "📄 Scraping page 5 from: https://pvoutput.org/list.jsp?p=4&id=13666&sid=11542&gs=0&v=0&o=date&d=desc\n"
     ]
    }
   ],
   "source": [
    "all_data = []\n",
    "\n",
    "for page in range(pages_to_scrape):\n",
    "    url = base_url.format(page)\n",
    "    print(f\"📄 Scraping page {page + 1} from: {url}\")\n",
    "    \n",
    "    try:\n",
    "        driver.get(url)\n",
    "        time.sleep(6)\n",
    "        soup = BeautifulSoup(driver.page_source, \"html.parser\")\n",
    "        table = soup.find(\"table\", id=\"tbl_main\")\n",
    "\n",
    "        if not table:\n",
    "            print(f\"⚠️ No table found on page {page + 1}. Retrying once...\")\n",
    "            time.sleep(5)\n",
    "            driver.get(url)\n",
    "            soup = BeautifulSoup(driver.page_source, \"html.parser\")\n",
    "            table = soup.find(\"table\", id=\"tbl_main\")\n",
    "\n",
    "        if table:\n",
    "            rows = table.find_all(\"tr\")[1:]\n",
    "            for row in rows:\n",
    "                cols = [td.get_text(strip=True).replace(',', '') for td in row.find_all(\"td\")]\n",
    "                if len(cols) >= 9:\n",
    "                    cols.append(system_name)\n",
    "                    cols.append(location)\n",
    "                    all_data.append(cols)\n",
    "        else:\n",
    "            print(f\"❌ Failed again: No table found on page {page + 1}\")\n",
    "    except Exception as e:\n",
    "        print(f\"🚨 Error scraping page {page + 1}: {e}\")\n",
    "\n",
    "driver.quit()"
   ]
  },
  {
   "cell_type": "code",
   "execution_count": 5,
   "id": "668f0885-44cc-4d5e-8e44-a149e62af7b4",
   "metadata": {},
   "outputs": [],
   "source": [
    "header = [\n",
    "    \"Date\", \"Generated\", \"Efficiency\", \"Exported\", \"Peak Power\",\n",
    "    \"Peak Time\", \"Conditions\", \"Temperature\", \"Comments\",\n",
    "    \"System Name\", \"Location\"\n",
    "]"
   ]
  },
  {
   "cell_type": "code",
   "execution_count": 6,
   "id": "9547d5ac-8370-4fbc-80c1-e5108e87ff31",
   "metadata": {},
   "outputs": [
    {
     "name": "stdout",
     "output_type": "stream",
     "text": [
      "       Date   Generated   Efficiency System Name        Location\n",
      "0  30/03/25  141.365kWh  2.827kWh/kW  Wray Farms  United Kingdom\n",
      "1  29/03/25  106.771kWh  2.135kWh/kW  Wray Farms  United Kingdom\n",
      "2  28/03/25   91.659kWh  1.833kWh/kW  Wray Farms  United Kingdom\n",
      "3  27/03/25  104.243kWh  2.085kWh/kW  Wray Farms  United Kingdom\n",
      "4  26/03/25   89.894kWh  1.798kWh/kW  Wray Farms  United Kingdom\n"
     ]
    }
   ],
   "source": [
    "df = pd.DataFrame(all_data, columns=header)\n",
    "df.drop(columns=[\"Exported\", \"Temperature\", \"Comments\", \"Peak Power\", \"Peak Time\", \"Conditions\"], inplace=True)\n",
    "print(df.head())"
   ]
  },
  {
   "cell_type": "code",
   "execution_count": 25,
   "id": "afd8b455-540f-4714-b061-906986ada6b9",
   "metadata": {},
   "outputs": [],
   "source": [
    "page6 = pd.read_csv(\"WFSS_page6.csv\")\n",
    "page7 = pd.read_csv(\"WFSS_page7.csv\")\n",
    "page8 = pd.read_csv(\"WFSS_page8.csv\")\n",
    "page9 = pd.read_csv(\"WFSS_page9.csv\")\n",
    "page10 = pd.read_csv(\"WFSS_page10.csv\")"
   ]
  },
  {
   "cell_type": "code",
   "execution_count": 27,
   "id": "97be940b-3c67-4103-b84e-5913453364f5",
   "metadata": {},
   "outputs": [],
   "source": [
    "page6[\"System Name\"] = \"Wray Farms\"\n",
    "page6[\"Location\"] = \"United Kingdom\"\n",
    "page7[\"System Name\"] = \"Wray Farms\"\n",
    "page7[\"Location\"] = \"United Kingdom\"\n",
    "page8[\"System Name\"] = \"Wray Farms\"\n",
    "page8[\"Location\"] = \"United Kingdom\"\n",
    "page9[\"System Name\"] = \"Wray Farms\"\n",
    "page9[\"Location\"] = \"United Kingdom\"\n",
    "page10[\"System Name\"] = \"Wray Farms\"\n",
    "page10[\"Location\"] = \"United Kingdom\""
   ]
  },
  {
   "cell_type": "code",
   "execution_count": 29,
   "id": "a9f50866-f256-41c4-9319-8b69eade8958",
   "metadata": {},
   "outputs": [],
   "source": [
    "master_df = pd.concat([df, page6, page7, page8, page9, page10], ignore_index=True)"
   ]
  },
  {
   "cell_type": "code",
   "execution_count": 31,
   "id": "0caa0022-af0f-4c96-b10b-ee173211dbea",
   "metadata": {},
   "outputs": [
    {
     "data": {
      "text/html": [
       "<div>\n",
       "<style scoped>\n",
       "    .dataframe tbody tr th:only-of-type {\n",
       "        vertical-align: middle;\n",
       "    }\n",
       "\n",
       "    .dataframe tbody tr th {\n",
       "        vertical-align: top;\n",
       "    }\n",
       "\n",
       "    .dataframe thead th {\n",
       "        text-align: right;\n",
       "    }\n",
       "</style>\n",
       "<table border=\"1\" class=\"dataframe\">\n",
       "  <thead>\n",
       "    <tr style=\"text-align: right;\">\n",
       "      <th></th>\n",
       "      <th>Date</th>\n",
       "      <th>Generated</th>\n",
       "      <th>Efficiency</th>\n",
       "      <th>System Name</th>\n",
       "      <th>Location</th>\n",
       "    </tr>\n",
       "  </thead>\n",
       "  <tbody>\n",
       "    <tr>\n",
       "      <th>0</th>\n",
       "      <td>30/03/25</td>\n",
       "      <td>141.365kWh</td>\n",
       "      <td>2.827kWh/kW</td>\n",
       "      <td>Wray Farms</td>\n",
       "      <td>United Kingdom</td>\n",
       "    </tr>\n",
       "    <tr>\n",
       "      <th>1</th>\n",
       "      <td>29/03/25</td>\n",
       "      <td>106.771kWh</td>\n",
       "      <td>2.135kWh/kW</td>\n",
       "      <td>Wray Farms</td>\n",
       "      <td>United Kingdom</td>\n",
       "    </tr>\n",
       "    <tr>\n",
       "      <th>2</th>\n",
       "      <td>28/03/25</td>\n",
       "      <td>91.659kWh</td>\n",
       "      <td>1.833kWh/kW</td>\n",
       "      <td>Wray Farms</td>\n",
       "      <td>United Kingdom</td>\n",
       "    </tr>\n",
       "    <tr>\n",
       "      <th>3</th>\n",
       "      <td>27/03/25</td>\n",
       "      <td>104.243kWh</td>\n",
       "      <td>2.085kWh/kW</td>\n",
       "      <td>Wray Farms</td>\n",
       "      <td>United Kingdom</td>\n",
       "    </tr>\n",
       "    <tr>\n",
       "      <th>4</th>\n",
       "      <td>26/03/25</td>\n",
       "      <td>89.894kWh</td>\n",
       "      <td>1.798kWh/kW</td>\n",
       "      <td>Wray Farms</td>\n",
       "      <td>United Kingdom</td>\n",
       "    </tr>\n",
       "    <tr>\n",
       "      <th>...</th>\n",
       "      <td>...</td>\n",
       "      <td>...</td>\n",
       "      <td>...</td>\n",
       "      <td>...</td>\n",
       "      <td>...</td>\n",
       "    </tr>\n",
       "    <tr>\n",
       "      <th>395</th>\n",
       "      <td>9/26/2023</td>\n",
       "      <td>123.231</td>\n",
       "      <td>2.46462</td>\n",
       "      <td>Wray Farms</td>\n",
       "      <td>United Kingdom</td>\n",
       "    </tr>\n",
       "    <tr>\n",
       "      <th>396</th>\n",
       "      <td>9/25/2023</td>\n",
       "      <td>171.482</td>\n",
       "      <td>3.42964</td>\n",
       "      <td>Wray Farms</td>\n",
       "      <td>United Kingdom</td>\n",
       "    </tr>\n",
       "    <tr>\n",
       "      <th>397</th>\n",
       "      <td>9/24/2023</td>\n",
       "      <td>86.931</td>\n",
       "      <td>1.73862</td>\n",
       "      <td>Wray Farms</td>\n",
       "      <td>United Kingdom</td>\n",
       "    </tr>\n",
       "    <tr>\n",
       "      <th>398</th>\n",
       "      <td>9/23/2023</td>\n",
       "      <td>140.38</td>\n",
       "      <td>2.8076</td>\n",
       "      <td>Wray Farms</td>\n",
       "      <td>United Kingdom</td>\n",
       "    </tr>\n",
       "    <tr>\n",
       "      <th>399</th>\n",
       "      <td>9/22/2023</td>\n",
       "      <td>180.33</td>\n",
       "      <td>3.6066</td>\n",
       "      <td>Wray Farms</td>\n",
       "      <td>United Kingdom</td>\n",
       "    </tr>\n",
       "  </tbody>\n",
       "</table>\n",
       "<p>400 rows × 5 columns</p>\n",
       "</div>"
      ],
      "text/plain": [
       "          Date   Generated   Efficiency System Name        Location\n",
       "0     30/03/25  141.365kWh  2.827kWh/kW  Wray Farms  United Kingdom\n",
       "1     29/03/25  106.771kWh  2.135kWh/kW  Wray Farms  United Kingdom\n",
       "2     28/03/25   91.659kWh  1.833kWh/kW  Wray Farms  United Kingdom\n",
       "3     27/03/25  104.243kWh  2.085kWh/kW  Wray Farms  United Kingdom\n",
       "4     26/03/25   89.894kWh  1.798kWh/kW  Wray Farms  United Kingdom\n",
       "..         ...         ...          ...         ...             ...\n",
       "395  9/26/2023     123.231      2.46462  Wray Farms  United Kingdom\n",
       "396  9/25/2023     171.482      3.42964  Wray Farms  United Kingdom\n",
       "397  9/24/2023      86.931      1.73862  Wray Farms  United Kingdom\n",
       "398  9/23/2023      140.38       2.8076  Wray Farms  United Kingdom\n",
       "399  9/22/2023      180.33       3.6066  Wray Farms  United Kingdom\n",
       "\n",
       "[400 rows x 5 columns]"
      ]
     },
     "execution_count": 31,
     "metadata": {},
     "output_type": "execute_result"
    }
   ],
   "source": [
    "master_df"
   ]
  },
  {
   "cell_type": "code",
   "execution_count": 33,
   "id": "250b4462-2a78-4709-bfc2-55e7ceaf5793",
   "metadata": {},
   "outputs": [],
   "source": [
    "master_df[\"System Size (kW)\"] = 50"
   ]
  },
  {
   "cell_type": "code",
   "execution_count": 35,
   "id": "dcd85166-6d98-4daf-a33c-b829e580737e",
   "metadata": {},
   "outputs": [],
   "source": [
    "master_df.to_csv(\"daily_Wray_Farms_Solar_System_master.csv\", index=False)"
   ]
  },
  {
   "cell_type": "code",
   "execution_count": null,
   "id": "80f79c71-9796-49c5-b701-9fa3277e751c",
   "metadata": {},
   "outputs": [],
   "source": []
  }
 ],
 "metadata": {
  "kernelspec": {
   "display_name": "Python [conda env:base] *",
   "language": "python",
   "name": "conda-base-py"
  },
  "language_info": {
   "codemirror_mode": {
    "name": "ipython",
    "version": 3
   },
   "file_extension": ".py",
   "mimetype": "text/x-python",
   "name": "python",
   "nbconvert_exporter": "python",
   "pygments_lexer": "ipython3",
   "version": "3.12.7"
  }
 },
 "nbformat": 4,
 "nbformat_minor": 5
}
