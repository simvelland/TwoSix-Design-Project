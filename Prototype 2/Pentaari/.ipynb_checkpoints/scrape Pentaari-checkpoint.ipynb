{
 "cells": [
  {
   "cell_type": "code",
   "execution_count": null,
   "id": "64f02dc5-b60a-40a0-beaa-0b7efeb50d30",
   "metadata": {},
   "outputs": [],
   "source": [
    "from selenium import webdriver\n",
    "from selenium.webdriver.chrome.service import Service\n",
    "from selenium.webdriver.chrome.options import Options\n",
    "from bs4 import BeautifulSoup\n",
    "import pandas as pd\n",
    "import time"
   ]
  },
  {
   "cell_type": "code",
   "execution_count": null,
   "id": "d5a0be0a-31ed-4227-bda8-bf1d36132927",
   "metadata": {},
   "outputs": [],
   "source": [
    "system_name = \"Pentaari\"\n",
    "location = \"Greece\"\n",
    "base_url = \"https://pvoutput.org/list.jsp?p={}&id=49186&sid=74198&gs=0&v=0&o=date&d=desc\"\n",
    "pages_to_scrape = 5"
   ]
  },
  {
   "cell_type": "code",
   "execution_count": null,
   "id": "c807a841-7681-4dc6-b678-28c8e0a073e0",
   "metadata": {},
   "outputs": [],
   "source": [
    "options = Options()\n",
    "options.binary_location = r\"C:\\Program Files\\chrome for testing\\chrome-win64\\chrome.exe\"\n",
    "options.add_argument(\"--headless=new\")\n",
    "options.add_argument(\"--disable-gpu\")\n",
    "options.add_argument(\"--window-size=1920,1080\")\n",
    "options.add_argument(\"user-agent=Mozilla/5.0 (Windows NT 10.0; Win64; x64) AppleWebKit/537.36 (KHTML, like Gecko) Chrome/134.0.0.0 Safari/537.36\")\n",
    "service = Service(executable_path=r\"C:\\Program Files\\chrome for testing\\chrome-win64\\chromedriver.exe\")\n",
    "driver = webdriver.Chrome(service=service, options=options)"
   ]
  },
  {
   "cell_type": "code",
   "execution_count": null,
   "id": "dc3dc016-5e27-49f8-b05a-5438aa41d6e9",
   "metadata": {},
   "outputs": [],
   "source": [
    "all_data = []\n",
    "\n",
    "for page in range(pages_to_scrape):\n",
    "    url = base_url.format(page)\n",
    "    print(f\"📄 Scraping page {page + 1} from: {url}\")\n",
    "    \n",
    "    try:\n",
    "        driver.get(url)\n",
    "        time.sleep(6)\n",
    "        soup = BeautifulSoup(driver.page_source, \"html.parser\")\n",
    "        table = soup.find(\"table\", id=\"tbl_main\")\n",
    "\n",
    "        if not table:\n",
    "            print(f\"⚠️ No table found on page {page + 1}. Retrying once...\")\n",
    "            time.sleep(5)\n",
    "            driver.get(url)\n",
    "            soup = BeautifulSoup(driver.page_source, \"html.parser\")\n",
    "            table = soup.find(\"table\", id=\"tbl_main\")\n",
    "\n",
    "        if table:\n",
    "            rows = table.find_all(\"tr\")[1:]\n",
    "            for row in rows:\n",
    "                cols = [td.get_text(strip=True).replace(',', '') for td in row.find_all(\"td\")]\n",
    "                if len(cols) >= 9:\n",
    "                    cols.append(system_name)\n",
    "                    cols.append(location)\n",
    "                    all_data.append(cols)\n",
    "        else:\n",
    "            print(f\"❌ Failed again: No table found on page {page + 1}\")\n",
    "    except Exception as e:\n",
    "        print(f\"🚨 Error scraping page {page + 1}: {e}\")\n",
    "\n",
    "driver.quit()"
   ]
  },
  {
   "cell_type": "code",
   "execution_count": null,
   "id": "8994dc44-9bc2-4d4d-b6fd-bedaf5c5f72a",
   "metadata": {},
   "outputs": [],
   "source": [
    "header = [\n",
    "    \"Date\", \"Generated\", \"Efficiency\", \"Exported\", \"Peak Power\",\n",
    "    \"Peak Time\", \"Conditions\", \"Temperature\", \"Comments\",\n",
    "    \"System Name\", \"Location\"\n",
    "]"
   ]
  },
  {
   "cell_type": "code",
   "execution_count": null,
   "id": "71ea0b3e-5f7a-4f49-9ac9-fbeb25e458bc",
   "metadata": {},
   "outputs": [],
   "source": [
    "df = pd.DataFrame(all_data, columns=header)\n",
    "df.drop(columns=[\"Exported\", \"Temperature\", \"Comments\", \"Peak Power\", \"Peak Time\", \"Conditions\"], inplace=True)\n",
    "print(df.head())"
   ]
  },
  {
   "cell_type": "code",
   "execution_count": null,
   "id": "5b488a59-7fc6-4787-b6fb-8c8dd1fd02c5",
   "metadata": {},
   "outputs": [],
   "source": [
    "page6 = pd.read_csv(\"Pentaari_page6.csv\")\n",
    "page7 = pd.read_csv(\"Pentaari_page7.csv\")\n",
    "page8 = pd.read_csv(\"Pentaari_page8.csv\")\n",
    "page9 = pd.read_csv(\"Pentaari_page9.csv\")\n",
    "page10 = pd.read_csv(\"Pentaari_page10.csv\")"
   ]
  },
  {
   "cell_type": "code",
   "execution_count": null,
   "id": "3b56d909-2d9a-4a84-bd3c-052d8c7938ed",
   "metadata": {},
   "outputs": [],
   "source": [
    "page6[\"System Name\"] = \"Pentaari\"\n",
    "page6[\"Location\"] = \"Greece\"\n",
    "page7[\"System Name\"] = \"Pentaari\"\n",
    "page7[\"Location\"] = \"Greece\"\n",
    "page8[\"System Name\"] = \"Pentaari\"\n",
    "page8[\"Location\"] = \"Greece\"\n",
    "page9[\"System Name\"] = \"Pentaari\"\n",
    "page9[\"Location\"] = \"Greece\"\n",
    "page10[\"System Name\"] = \"Pentaari\"\n",
    "page10[\"Location\"] = \"Greece\""
   ]
  },
  {
   "cell_type": "code",
   "execution_count": null,
   "id": "4f1de3ec-109d-486d-869c-03d062b60a7f",
   "metadata": {},
   "outputs": [],
   "source": [
    "master_df = pd.concat([df, page6, page7, page8, page9, page10], ignore_index=True)"
   ]
  },
  {
   "cell_type": "code",
   "execution_count": null,
   "id": "0a806179-7f39-4ade-babd-7ba0aa3891cd",
   "metadata": {},
   "outputs": [],
   "source": [
    "master_df"
   ]
  },
  {
   "cell_type": "code",
   "execution_count": null,
   "id": "2c84135a-af76-4769-861f-1b47b3c9ef41",
   "metadata": {},
   "outputs": [],
   "source": [
    "master_df[\"System Size (kW)\"] = 504.375"
   ]
  },
  {
   "cell_type": "code",
   "execution_count": null,
   "id": "b7ae1953-d7a1-46ff-85e4-3832e777bb0d",
   "metadata": {},
   "outputs": [],
   "source": [
    "master_df.to_csv(\"daily_Pentaari_master.csv\", index=False)"
   ]
  }
 ],
 "metadata": {
  "kernelspec": {
   "display_name": "Python [conda env:base] *",
   "language": "python",
   "name": "conda-base-py"
  },
  "language_info": {
   "codemirror_mode": {
    "name": "ipython",
    "version": 3
   },
   "file_extension": ".py",
   "mimetype": "text/x-python",
   "name": "python",
   "nbconvert_exporter": "python",
   "pygments_lexer": "ipython3",
   "version": "3.12.7"
  }
 },
 "nbformat": 4,
 "nbformat_minor": 5
}
