{
 "cells": [
  {
   "cell_type": "code",
   "execution_count": null,
   "id": "819fb0b4-6c2f-4302-ba91-34d151dd0dae",
   "metadata": {},
   "outputs": [],
   "source": [
    "from selenium import webdriver\n",
    "from selenium.webdriver.chrome.service import Service\n",
    "from selenium.webdriver.chrome.options import Options\n",
    "from bs4 import BeautifulSoup\n",
    "import pandas as pd\n",
    "import time"
   ]
  },
  {
   "cell_type": "code",
   "execution_count": null,
   "id": "3e690ebc-de17-438f-8a3c-d18e8aa6b963",
   "metadata": {},
   "outputs": [],
   "source": [
    "system_name = \"Wannon Water\"\n",
    "location = \"Australia\"\n",
    "base_url = \"https://pvoutput.org/list.jsp?p={}&id=57479&sid=63726&gs=0&v=0&o=date&d=desc\"\n",
    "pages_to_scrape = 5"
   ]
  },
  {
   "cell_type": "code",
   "execution_count": null,
   "id": "a40d71fa-58ca-4a22-a672-13d672433bae",
   "metadata": {},
   "outputs": [],
   "source": [
    "options = Options()\n",
    "options.binary_location = r\"C:\\Program Files\\chrome for testing\\chrome-win64\\chrome.exe\"\n",
    "options.add_argument(\"--headless=new\")\n",
    "options.add_argument(\"--disable-gpu\")\n",
    "options.add_argument(\"--window-size=1920,1080\")\n",
    "options.add_argument(\"user-agent=Mozilla/5.0 (Windows NT 10.0; Win64; x64) AppleWebKit/537.36 (KHTML, like Gecko) Chrome/134.0.0.0 Safari/537.36\")\n",
    "service = Service(executable_path=r\"C:\\Program Files\\chrome for testing\\chrome-win64\\chromedriver.exe\")\n",
    "driver = webdriver.Chrome(service=service, options=options)"
   ]
  },
  {
   "cell_type": "code",
   "execution_count": null,
   "id": "40e93741-3a72-4c77-92d8-8ebcf9281291",
   "metadata": {},
   "outputs": [],
   "source": [
    "all_data = []\n",
    "\n",
    "for page in range(pages_to_scrape):\n",
    "    url = base_url.format(page)\n",
    "    print(f\"📄 Scraping page {page + 1} from: {url}\")\n",
    "    \n",
    "    try:\n",
    "        driver.get(url)\n",
    "        time.sleep(6)\n",
    "        soup = BeautifulSoup(driver.page_source, \"html.parser\")\n",
    "        table = soup.find(\"table\", id=\"tbl_main\")\n",
    "\n",
    "        if not table:\n",
    "            print(f\"⚠️ No table found on page {page + 1}. Retrying once...\")\n",
    "            time.sleep(5)\n",
    "            driver.get(url)\n",
    "            soup = BeautifulSoup(driver.page_source, \"html.parser\")\n",
    "            table = soup.find(\"table\", id=\"tbl_main\")\n",
    "\n",
    "        if table:\n",
    "            rows = table.find_all(\"tr\")[1:]\n",
    "            for row in rows:\n",
    "                cols = [td.get_text(strip=True).replace(',', '') for td in row.find_all(\"td\")]\n",
    "                if len(cols) >= 9:\n",
    "                    cols.append(system_name)\n",
    "                    cols.append(location)\n",
    "                    all_data.append(cols)\n",
    "        else:\n",
    "            print(f\"❌ Failed again: No table found on page {page + 1}\")\n",
    "    except Exception as e:\n",
    "        print(f\"🚨 Error scraping page {page + 1}: {e}\")\n",
    "\n",
    "driver.quit()"
   ]
  },
  {
   "cell_type": "code",
   "execution_count": null,
   "id": "8e5ed4e5-edd8-4519-8b75-05abba6b89ef",
   "metadata": {},
   "outputs": [],
   "source": [
    "header = [\n",
    "    \"Date\", \"Generated\", \"Efficiency\", \"Exported\", \"Peak Power\",\n",
    "    \"Peak Time\", \"Conditions\", \"Temperature\", \"Comments\",\n",
    "    \"System Name\", \"Location\"\n",
    "]"
   ]
  },
  {
   "cell_type": "code",
   "execution_count": null,
   "id": "e71af715-0e18-460a-aaac-cab12366d95b",
   "metadata": {},
   "outputs": [],
   "source": [
    "df = pd.DataFrame(all_data, columns=header)\n",
    "df.drop(columns=[\"Exported\", \"Temperature\", \"Comments\", \"Peak Power\", \"Peak Time\", \"Conditions\"], inplace=True)\n",
    "print(df.head())"
   ]
  },
  {
   "cell_type": "code",
   "execution_count": null,
   "id": "30098891-ab00-4177-9dca-2e2a0c0701a3",
   "metadata": {},
   "outputs": [],
   "source": [
    "page6 = pd.read_csv(\"WW_page6.csv\")\n",
    "page7 = pd.read_csv(\"WW_page7.csv\")\n",
    "page8 = pd.read_csv(\"WW_page8.csv\")\n",
    "page9 = pd.read_csv(\"WW_page9.csv\")\n",
    "page10 = pd.read_csv(\"WW_page10.csv\")"
   ]
  },
  {
   "cell_type": "code",
   "execution_count": null,
   "id": "9b75b739-018c-4900-a043-03281a9f110a",
   "metadata": {},
   "outputs": [],
   "source": [
    "page6[\"System Name\"] = \"Wannon Water\"\n",
    "page6[\"Location\"] = \"Australia\"\n",
    "page7[\"System Name\"] = \"Wannon Water\"\n",
    "page7[\"Location\"] = \"Australia\"\n",
    "page8[\"System Name\"] = \"Wannon Water\"\n",
    "page8[\"Location\"] = \"Australia\"\n",
    "page9[\"System Name\"] = \"Wannon Water\"\n",
    "page9[\"Location\"] = \"Australia\"\n",
    "page10[\"System Name\"] = \"Wannon Water\"\n",
    "page10[\"Location\"] = \"Australia\""
   ]
  },
  {
   "cell_type": "code",
   "execution_count": null,
   "id": "4029a43f-4493-4f26-84d8-575df370a773",
   "metadata": {},
   "outputs": [],
   "source": [
    "master_df = pd.concat([df, page6, page7, page8, page9, page10], ignore_index=True)"
   ]
  },
  {
   "cell_type": "code",
   "execution_count": null,
   "id": "75410663-6aa1-443d-a98b-5743553e5095",
   "metadata": {},
   "outputs": [],
   "source": [
    "master_df"
   ]
  },
  {
   "cell_type": "code",
   "execution_count": null,
   "id": "f902a052-660d-4bf2-acbd-dc381cfcf9ad",
   "metadata": {},
   "outputs": [],
   "source": [
    "master_df[\"System Size (kW)\"] = 252.720"
   ]
  },
  {
   "cell_type": "code",
   "execution_count": null,
   "id": "a1168fcc-bdfa-4134-8bb9-d7afd2ef035e",
   "metadata": {},
   "outputs": [],
   "source": [
    "master_df.to_csv(\"daily_Wannon Water_master.csv\", index=False)"
   ]
  }
 ],
 "metadata": {
  "kernelspec": {
   "display_name": "Python [conda env:base] *",
   "language": "python",
   "name": "conda-base-py"
  },
  "language_info": {
   "codemirror_mode": {
    "name": "ipython",
    "version": 3
   },
   "file_extension": ".py",
   "mimetype": "text/x-python",
   "name": "python",
   "nbconvert_exporter": "python",
   "pygments_lexer": "ipython3",
   "version": "3.12.7"
  }
 },
 "nbformat": 4,
 "nbformat_minor": 5
}
