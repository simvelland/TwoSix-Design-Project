{
 "cells": [
  {
   "cell_type": "code",
   "execution_count": 1,
   "id": "e0dc6ab8-bce7-469d-b84b-654161539585",
   "metadata": {},
   "outputs": [],
   "source": [
    "from selenium import webdriver\n",
    "from selenium.webdriver.chrome.service import Service\n",
    "from selenium.webdriver.chrome.options import Options\n",
    "from bs4 import BeautifulSoup\n",
    "import pandas as pd\n",
    "import time"
   ]
  },
  {
   "cell_type": "code",
   "execution_count": 2,
   "id": "280e37fb-311b-497d-a71d-c47343477ff2",
   "metadata": {},
   "outputs": [],
   "source": [
    "system_name = \"HLT1 Klagenfurt Lastenstrasse\"\n",
    "location = \"Austria\"\n",
    "base_url = \"https://pvoutput.org/list.jsp?p={}&id=59962&sid=53361&gs=0&v=0&o=date&d=desc\"\n",
    "pages_to_scrape = 5"
   ]
  },
  {
   "cell_type": "code",
   "execution_count": 3,
   "id": "28e6ee91-fce1-43ff-84c8-f813229f650f",
   "metadata": {},
   "outputs": [],
   "source": [
    "options = Options()\n",
    "options.binary_location = r\"C:\\Program Files\\chrome for testing\\chrome-win64\\chrome.exe\"\n",
    "options.add_argument(\"--headless=new\")\n",
    "options.add_argument(\"--disable-gpu\")\n",
    "options.add_argument(\"--window-size=1920,1080\")\n",
    "options.add_argument(\"user-agent=Mozilla/5.0 (Windows NT 10.0; Win64; x64) AppleWebKit/537.36 (KHTML, like Gecko) Chrome/134.0.0.0 Safari/537.36\")\n",
    "service = Service(executable_path=r\"C:\\Program Files\\chrome for testing\\chrome-win64\\chromedriver.exe\")\n",
    "driver = webdriver.Chrome(service=service, options=options)"
   ]
  },
  {
   "cell_type": "code",
   "execution_count": 4,
   "id": "95f80975-bf78-46cc-ab7d-f4b89b27f9ac",
   "metadata": {},
   "outputs": [
    {
     "name": "stdout",
     "output_type": "stream",
     "text": [
      "📄 Scraping page 1 from: https://pvoutput.org/list.jsp?p=0&id=59962&sid=53361&gs=0&v=0&o=date&d=desc\n"
     ]
    },
    {
     "ename": "KeyboardInterrupt",
     "evalue": "",
     "output_type": "error",
     "traceback": [
      "\u001b[1;31m---------------------------------------------------------------------------\u001b[0m",
      "\u001b[1;31mKeyboardInterrupt\u001b[0m                         Traceback (most recent call last)",
      "Cell \u001b[1;32mIn[4], line 9\u001b[0m\n\u001b[0;32m      7\u001b[0m \u001b[38;5;28;01mtry\u001b[39;00m:\n\u001b[0;32m      8\u001b[0m     driver\u001b[38;5;241m.\u001b[39mget(url)\n\u001b[1;32m----> 9\u001b[0m     time\u001b[38;5;241m.\u001b[39msleep(\u001b[38;5;241m6\u001b[39m)\n\u001b[0;32m     10\u001b[0m     soup \u001b[38;5;241m=\u001b[39m BeautifulSoup(driver\u001b[38;5;241m.\u001b[39mpage_source, \u001b[38;5;124m\"\u001b[39m\u001b[38;5;124mhtml.parser\u001b[39m\u001b[38;5;124m\"\u001b[39m)\n\u001b[0;32m     11\u001b[0m     table \u001b[38;5;241m=\u001b[39m soup\u001b[38;5;241m.\u001b[39mfind(\u001b[38;5;124m\"\u001b[39m\u001b[38;5;124mtable\u001b[39m\u001b[38;5;124m\"\u001b[39m, \u001b[38;5;28mid\u001b[39m\u001b[38;5;241m=\u001b[39m\u001b[38;5;124m\"\u001b[39m\u001b[38;5;124mtbl_main\u001b[39m\u001b[38;5;124m\"\u001b[39m)\n",
      "\u001b[1;31mKeyboardInterrupt\u001b[0m: "
     ]
    }
   ],
   "source": [
    "all_data = []\n",
    "\n",
    "for page in range(pages_to_scrape):\n",
    "    url = base_url.format(page)\n",
    "    print(f\"📄 Scraping page {page + 1} from: {url}\")\n",
    "    \n",
    "    try:\n",
    "        driver.get(url)\n",
    "        time.sleep(6)\n",
    "        soup = BeautifulSoup(driver.page_source, \"html.parser\")\n",
    "        table = soup.find(\"table\", id=\"tbl_main\")\n",
    "\n",
    "        if not table:\n",
    "            print(f\"⚠️ No table found on page {page + 1}. Retrying once...\")\n",
    "            time.sleep(5)\n",
    "            driver.get(url)\n",
    "            soup = BeautifulSoup(driver.page_source, \"html.parser\")\n",
    "            table = soup.find(\"table\", id=\"tbl_main\")\n",
    "\n",
    "        if table:\n",
    "            rows = table.find_all(\"tr\")[1:]\n",
    "            for row in rows:\n",
    "                cols = [td.get_text(strip=True).replace(',', '') for td in row.find_all(\"td\")]\n",
    "                if len(cols) >= 9:\n",
    "                    cols.append(system_name)\n",
    "                    cols.append(location)\n",
    "                    all_data.append(cols)\n",
    "        else:\n",
    "            print(f\"❌ Failed again: No table found on page {page + 1}\")\n",
    "    except Exception as e:\n",
    "        print(f\"🚨 Error scraping page {page + 1}: {e}\")\n",
    "\n",
    "driver.quit()"
   ]
  },
  {
   "cell_type": "code",
   "execution_count": null,
   "id": "59f54918-02eb-4acf-97a2-6d4c27078844",
   "metadata": {},
   "outputs": [],
   "source": [
    "header = [\n",
    "    \"Date\", \"Generated\", \"Efficiency\", \"Exported\", \"Peak Power\",\n",
    "    \"Peak Time\", \"Conditions\", \"Temperature\", \"Comments\",\n",
    "    \"System Name\", \"Location\"\n",
    "]"
   ]
  },
  {
   "cell_type": "code",
   "execution_count": null,
   "id": "31d5a1eb-4e46-45f6-b825-10dbb7173b98",
   "metadata": {},
   "outputs": [],
   "source": [
    "df = pd.DataFrame(all_data, columns=header)\n",
    "df.drop(columns=[\"Exported\", \"Temperature\", \"Comments\", \"Peak Power\", \"Peak Time\", \"Conditions\"], inplace=True)\n",
    "print(df.head())"
   ]
  },
  {
   "cell_type": "code",
   "execution_count": null,
   "id": "a039ce9f-6347-45d2-8f8b-883e357c6e9b",
   "metadata": {},
   "outputs": [],
   "source": [
    "page6 = pd.read_csv(\"HLT1_page6.csv\")\n",
    "page7 = pd.read_csv(\"HLT1_page7.csv\")\n",
    "page8 = pd.read_csv(\"HLT1_page8.csv\")\n",
    "page9 = pd.read_csv(\"HLT1_page9.csv\")\n",
    "page10 = pd.read_csv(\"HLT1_page10.csv\")"
   ]
  },
  {
   "cell_type": "code",
   "execution_count": null,
   "id": "71c68f44-afa7-437e-9836-3505277640fc",
   "metadata": {},
   "outputs": [],
   "source": [
    "page6[\"System Name\"] = \"HLT1 Klagenfurt Lastenstrasse\"\n",
    "page6[\"Location\"] = \"Austria\"\n",
    "page7[\"System Name\"] = \"HLT1 Klagenfurt Lastenstrasse\"\n",
    "page7[\"Location\"] = \"Austria\"\n",
    "page8[\"System Name\"] = \"HLT1 Klagenfurt Lastenstrasse\"\n",
    "page8[\"Location\"] = \"Austria\"\n",
    "page9[\"System Name\"] = \"HLT1 Klagenfurt Lastenstrasse\"\n",
    "page9[\"Location\"] = \"Austria\"\n",
    "page10[\"System Name\"] = \"HLT1 Klagenfurt Lastenstrasse\"\n",
    "page10[\"Location\"] = \"Austria\""
   ]
  },
  {
   "cell_type": "code",
   "execution_count": null,
   "id": "878676bf-6e14-4ef7-ad24-d8dcaaea15e8",
   "metadata": {},
   "outputs": [],
   "source": [
    "master_df = pd.concat([df, page6, page7, page8, page9, page10], ignore_index=True)"
   ]
  },
  {
   "cell_type": "code",
   "execution_count": null,
   "id": "f06116f6-ef3f-4606-a5f3-de7c9fc25992",
   "metadata": {},
   "outputs": [],
   "source": [
    "master_df"
   ]
  },
  {
   "cell_type": "code",
   "execution_count": null,
   "id": "d7960456-c0e0-424a-92b4-f6ea1aaf67ae",
   "metadata": {},
   "outputs": [],
   "source": [
    "master_df[\"System Size (kW)\"] = 91.8"
   ]
  },
  {
   "cell_type": "code",
   "execution_count": null,
   "id": "cfe1a602-7822-43bf-9ceb-553bac2ed793",
   "metadata": {},
   "outputs": [],
   "source": [
    "master_df.to_csv(\"daily_HLT1_Klagenfurt_Lastenstrasse_master.csv\", index=False)"
   ]
  }
 ],
 "metadata": {
  "kernelspec": {
   "display_name": "Python [conda env:base] *",
   "language": "python",
   "name": "conda-base-py"
  },
  "language_info": {
   "codemirror_mode": {
    "name": "ipython",
    "version": 3
   },
   "file_extension": ".py",
   "mimetype": "text/x-python",
   "name": "python",
   "nbconvert_exporter": "python",
   "pygments_lexer": "ipython3",
   "version": "3.12.7"
  }
 },
 "nbformat": 4,
 "nbformat_minor": 5
}
