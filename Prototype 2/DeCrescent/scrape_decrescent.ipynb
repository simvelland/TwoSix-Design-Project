{
 "cells": [
  {
   "cell_type": "code",
   "execution_count": 1,
   "id": "b9c15ea0-fcf9-464d-8f89-ac5ad2571245",
   "metadata": {},
   "outputs": [],
   "source": [
    "from selenium import webdriver\n",
    "from selenium.webdriver.chrome.service import Service\n",
    "from selenium.webdriver.chrome.options import Options\n",
    "from bs4 import BeautifulSoup\n",
    "import pandas as pd\n",
    "import time"
   ]
  },
  {
   "cell_type": "code",
   "execution_count": 2,
   "id": "ebe73fc1-424a-43c5-9d38-978e6ef5ad11",
   "metadata": {},
   "outputs": [],
   "source": [
    "system_name = \"DeCrescent 178kW PV\"\n",
    "location = \"United States\"\n",
    "base_url = \"https://pvoutput.org/list.jsp?p={}&id=32413&sid=29714&gs=0&v=0&o=date&d=desc\"\n",
    "pages_to_scrape = 5"
   ]
  },
  {
   "cell_type": "code",
   "execution_count": 3,
   "id": "76cd969a-a4e9-40ee-bee9-4fc17c8d95a1",
   "metadata": {
    "scrolled": true
   },
   "outputs": [],
   "source": [
    "options = Options()\n",
    "options.binary_location = r\"C:\\Program Files\\chrome for testing\\chrome-win64\\chrome.exe\"\n",
    "options.add_argument(\"--headless=new\")\n",
    "options.add_argument(\"--disable-gpu\")\n",
    "options.add_argument(\"--window-size=1920,1080\")\n",
    "options.add_argument(\"user-agent=Mozilla/5.0 (Windows NT 10.0; Win64; x64) AppleWebKit/537.36 (KHTML, like Gecko) Chrome/134.0.0.0 Safari/537.36\")\n",
    "service = Service(executable_path=r\"C:\\Program Files\\chrome for testing\\chrome-win64\\chromedriver.exe\")\n",
    "driver = webdriver.Chrome(service=service, options=options)"
   ]
  },
  {
   "cell_type": "code",
   "execution_count": 4,
   "id": "b392432b-7c4b-4330-b821-bd9a168484c3",
   "metadata": {
    "scrolled": true
   },
   "outputs": [
    {
     "name": "stdout",
     "output_type": "stream",
     "text": [
      "📄 Scraping page 1 from: https://pvoutput.org/list.jsp?p=0&id=32413&sid=29714&gs=0&v=0&o=date&d=desc\n",
      "📄 Scraping page 2 from: https://pvoutput.org/list.jsp?p=1&id=32413&sid=29714&gs=0&v=0&o=date&d=desc\n",
      "📄 Scraping page 3 from: https://pvoutput.org/list.jsp?p=2&id=32413&sid=29714&gs=0&v=0&o=date&d=desc\n",
      "📄 Scraping page 4 from: https://pvoutput.org/list.jsp?p=3&id=32413&sid=29714&gs=0&v=0&o=date&d=desc\n",
      "📄 Scraping page 5 from: https://pvoutput.org/list.jsp?p=4&id=32413&sid=29714&gs=0&v=0&o=date&d=desc\n"
     ]
    }
   ],
   "source": [
    "all_data = []\n",
    "\n",
    "for page in range(pages_to_scrape):\n",
    "    url = base_url.format(page)\n",
    "    print(f\"Scraping page {page + 1} from: {url}\")\n",
    "    \n",
    "    try:\n",
    "        driver.get(url)\n",
    "        time.sleep(6)\n",
    "        soup = BeautifulSoup(driver.page_source, \"html.parser\")\n",
    "        table = soup.find(\"table\", id=\"tbl_main\")\n",
    "\n",
    "        if not table:\n",
    "            print(f\"No table found on page {page + 1}. Retrying once...\")\n",
    "            time.sleep(5)\n",
    "            driver.get(url)\n",
    "            soup = BeautifulSoup(driver.page_source, \"html.parser\")\n",
    "            table = soup.find(\"table\", id=\"tbl_main\")\n",
    "\n",
    "        if table:\n",
    "            rows = table.find_all(\"tr\")[1:]\n",
    "            for row in rows:\n",
    "                cols = [td.get_text(strip=True).replace(',', '') for td in row.find_all(\"td\")]\n",
    "                if len(cols) >= 9:\n",
    "                    cols.append(system_name)\n",
    "                    cols.append(location)\n",
    "                    all_data.append(cols)\n",
    "        else:\n",
    "            print(f\"Failed again: No table found on page {page + 1}\")\n",
    "    except Exception as e:\n",
    "        print(f\"Error scraping page {page + 1}: {e}\")\n",
    "\n",
    "driver.quit()"
   ]
  },
  {
   "cell_type": "code",
   "execution_count": 5,
   "id": "5a72b28e-7221-4812-beff-776d6ec1085a",
   "metadata": {},
   "outputs": [],
   "source": [
    "header = [\n",
    "    \"Date\", \"Generated\", \"Efficiency\", \"Exported\", \"Peak Power\",\n",
    "    \"Peak Time\", \"Conditions\", \"Temperature\", \"Comments\",\n",
    "    \"System Name\", \"Location\"\n",
    "]"
   ]
  },
  {
   "cell_type": "code",
   "execution_count": 6,
   "id": "f857f1c6-24c2-4468-ba6d-4ae0da10a0c1",
   "metadata": {
    "scrolled": true
   },
   "outputs": [
    {
     "name": "stdout",
     "output_type": "stream",
     "text": [
      "✅ Saved 200 rows to daily_DeCrescent_1yr.csv\n",
      "       Date   Generated   Efficiency Exported Peak Power Peak Time  \\\n",
      "0  28/03/25  427.154kWh  3.797kWh/kW        -  100.276kW   12:25PM   \n",
      "1  27/03/25  743.860kWh  6.612kWh/kW        -  100.278kW    1:05PM   \n",
      "2  26/03/25  565.422kWh  5.026kWh/kW        -  104.259kW   11:40AM   \n",
      "3  25/03/25  242.491kWh  2.155kWh/kW        -  100.356kW   10:50AM   \n",
      "4  24/03/25   83.653kWh  0.744kWh/kW        -   48.898kW    4:40PM   \n",
      "\n",
      "      Conditions Temperature                Comments          System Name  \\\n",
      "0  Mostly Cloudy           -  Updated 00:16 UTC-4:00  DeCrescent 178kW PV   \n",
      "1           Fine           -  Updated 00:42 UTC-4:00  DeCrescent 178kW PV   \n",
      "2           Fine           -  Updated 00:18 UTC-4:00  DeCrescent 178kW PV   \n",
      "3         Cloudy           -  Updated 00:13 UTC-4:00  DeCrescent 178kW PV   \n",
      "4        Showers           -  Updated 00:29 UTC-4:00  DeCrescent 178kW PV   \n",
      "\n",
      "        Location  \n",
      "0  United States  \n",
      "1  United States  \n",
      "2  United States  \n",
      "3  United States  \n",
      "4  United States  \n"
     ]
    }
   ],
   "source": [
    "df = pd.DataFrame(all_data, columns=header)\n",
    "df.to_csv(\"daily_DeCrescent_1yr.csv\", index=False)\n",
    "print(f\"Saved {len(df)} rows to daily_DeCrescent_1yr.csv\")\n",
    "print(df.head())"
   ]
  },
  {
   "cell_type": "code",
   "execution_count": 7,
   "id": "09eb3b41-ae07-478d-8941-03fed90f28da",
   "metadata": {},
   "outputs": [],
   "source": [
    "page6 = pd.read_csv(\"DeCrescent_page6.csv\")\n",
    "page7 = pd.read_csv(\"DeCrescent_page7.csv\")\n",
    "page8 = pd.read_csv(\"DeCrescent_page8.csv\")\n",
    "page9 = pd.read_csv(\"DeCrescent_page9.csv\")\n",
    "page10 = pd.read_csv(\"DeCrescent_page10.csv\")"
   ]
  },
  {
   "cell_type": "code",
   "execution_count": 8,
   "id": "c0b70de5-1f71-4222-ac96-13a15775d2d6",
   "metadata": {},
   "outputs": [
    {
     "name": "stdout",
     "output_type": "stream",
     "text": [
      "       Date   Generated   Efficiency          System Name       Location\n",
      "0  28/03/25  427.154kWh  3.797kWh/kW  DeCrescent 178kW PV  United States\n",
      "1  27/03/25  743.860kWh  6.612kWh/kW  DeCrescent 178kW PV  United States\n",
      "2  26/03/25  565.422kWh  5.026kWh/kW  DeCrescent 178kW PV  United States\n",
      "3  25/03/25  242.491kWh  2.155kWh/kW  DeCrescent 178kW PV  United States\n",
      "4  24/03/25   83.653kWh  0.744kWh/kW  DeCrescent 178kW PV  United States\n"
     ]
    }
   ],
   "source": [
    "df = pd.DataFrame(all_data, columns=header)\n",
    "df.drop(columns=[\"Exported\", \"Temperature\", \"Comments\", \"Peak Power\", \"Peak Time\", \"Conditions\"], inplace=True)\n",
    "print(df.head())"
   ]
  },
  {
   "cell_type": "code",
   "execution_count": 37,
   "id": "95c8f330-3660-45d8-86b9-11420ec6dd9d",
   "metadata": {},
   "outputs": [],
   "source": [
    "page10[\"System Name\"] = \"DeCrescent 178kW PV\"\n",
    "page10[\"Location\"] = \"United States\""
   ]
  },
  {
   "cell_type": "code",
   "execution_count": 39,
   "id": "54ea405b-f602-4f9b-9cb5-16fc0ce31c69",
   "metadata": {},
   "outputs": [],
   "source": [
    "master_df = pd.concat([df, page6, page7, page8, page9, page10], ignore_index=True)"
   ]
  },
  {
   "cell_type": "code",
   "execution_count": 11,
   "id": "fd3757dd-9bc5-4f11-93b9-1f766595279d",
   "metadata": {
    "scrolled": true
   },
   "outputs": [
    {
     "data": {
      "text/html": [
       "<div>\n",
       "<style scoped>\n",
       "    .dataframe tbody tr th:only-of-type {\n",
       "        vertical-align: middle;\n",
       "    }\n",
       "\n",
       "    .dataframe tbody tr th {\n",
       "        vertical-align: top;\n",
       "    }\n",
       "\n",
       "    .dataframe thead th {\n",
       "        text-align: right;\n",
       "    }\n",
       "</style>\n",
       "<table border=\"1\" class=\"dataframe\">\n",
       "  <thead>\n",
       "    <tr style=\"text-align: right;\">\n",
       "      <th></th>\n",
       "      <th>Date</th>\n",
       "      <th>Generated</th>\n",
       "      <th>Efficiency</th>\n",
       "      <th>System Name</th>\n",
       "      <th>Location</th>\n",
       "      <th>Unnamed: 2</th>\n",
       "    </tr>\n",
       "  </thead>\n",
       "  <tbody>\n",
       "    <tr>\n",
       "      <th>0</th>\n",
       "      <td>28/03/25</td>\n",
       "      <td>427.154kWh</td>\n",
       "      <td>3.797kWh/kW</td>\n",
       "      <td>DeCrescent 178kW PV</td>\n",
       "      <td>United States</td>\n",
       "      <td>NaN</td>\n",
       "    </tr>\n",
       "    <tr>\n",
       "      <th>1</th>\n",
       "      <td>27/03/25</td>\n",
       "      <td>743.860kWh</td>\n",
       "      <td>6.612kWh/kW</td>\n",
       "      <td>DeCrescent 178kW PV</td>\n",
       "      <td>United States</td>\n",
       "      <td>NaN</td>\n",
       "    </tr>\n",
       "    <tr>\n",
       "      <th>2</th>\n",
       "      <td>26/03/25</td>\n",
       "      <td>565.422kWh</td>\n",
       "      <td>5.026kWh/kW</td>\n",
       "      <td>DeCrescent 178kW PV</td>\n",
       "      <td>United States</td>\n",
       "      <td>NaN</td>\n",
       "    </tr>\n",
       "    <tr>\n",
       "      <th>3</th>\n",
       "      <td>25/03/25</td>\n",
       "      <td>242.491kWh</td>\n",
       "      <td>2.155kWh/kW</td>\n",
       "      <td>DeCrescent 178kW PV</td>\n",
       "      <td>United States</td>\n",
       "      <td>NaN</td>\n",
       "    </tr>\n",
       "    <tr>\n",
       "      <th>4</th>\n",
       "      <td>24/03/25</td>\n",
       "      <td>83.653kWh</td>\n",
       "      <td>0.744kWh/kW</td>\n",
       "      <td>DeCrescent 178kW PV</td>\n",
       "      <td>United States</td>\n",
       "      <td>NaN</td>\n",
       "    </tr>\n",
       "    <tr>\n",
       "      <th>...</th>\n",
       "      <td>...</td>\n",
       "      <td>...</td>\n",
       "      <td>...</td>\n",
       "      <td>...</td>\n",
       "      <td>...</td>\n",
       "      <td>...</td>\n",
       "    </tr>\n",
       "    <tr>\n",
       "      <th>372</th>\n",
       "      <td>3/10/2024</td>\n",
       "      <td>209.171kWh</td>\n",
       "      <td>1.859298</td>\n",
       "      <td>DeCrescent 178kW PV</td>\n",
       "      <td>United States</td>\n",
       "      <td>NaN</td>\n",
       "    </tr>\n",
       "    <tr>\n",
       "      <th>373</th>\n",
       "      <td>3/9/2024</td>\n",
       "      <td>198.313kWh</td>\n",
       "      <td>1.762782</td>\n",
       "      <td>DeCrescent 178kW PV</td>\n",
       "      <td>United States</td>\n",
       "      <td>NaN</td>\n",
       "    </tr>\n",
       "    <tr>\n",
       "      <th>374</th>\n",
       "      <td>3/8/2024</td>\n",
       "      <td>701.856kWh</td>\n",
       "      <td>6.23872</td>\n",
       "      <td>DeCrescent 178kW PV</td>\n",
       "      <td>United States</td>\n",
       "      <td>NaN</td>\n",
       "    </tr>\n",
       "    <tr>\n",
       "      <th>375</th>\n",
       "      <td>3/7/2024</td>\n",
       "      <td>282.632kWh</td>\n",
       "      <td>2.512284</td>\n",
       "      <td>DeCrescent 178kW PV</td>\n",
       "      <td>United States</td>\n",
       "      <td>NaN</td>\n",
       "    </tr>\n",
       "    <tr>\n",
       "      <th>376</th>\n",
       "      <td>3/6/2024</td>\n",
       "      <td>133.699kWh</td>\n",
       "      <td>1.188436</td>\n",
       "      <td>DeCrescent 178kW PV</td>\n",
       "      <td>United States</td>\n",
       "      <td>NaN</td>\n",
       "    </tr>\n",
       "  </tbody>\n",
       "</table>\n",
       "<p>377 rows × 6 columns</p>\n",
       "</div>"
      ],
      "text/plain": [
       "          Date   Generated   Efficiency          System Name       Location  \\\n",
       "0     28/03/25  427.154kWh  3.797kWh/kW  DeCrescent 178kW PV  United States   \n",
       "1     27/03/25  743.860kWh  6.612kWh/kW  DeCrescent 178kW PV  United States   \n",
       "2     26/03/25  565.422kWh  5.026kWh/kW  DeCrescent 178kW PV  United States   \n",
       "3     25/03/25  242.491kWh  2.155kWh/kW  DeCrescent 178kW PV  United States   \n",
       "4     24/03/25   83.653kWh  0.744kWh/kW  DeCrescent 178kW PV  United States   \n",
       "..         ...         ...          ...                  ...            ...   \n",
       "372  3/10/2024  209.171kWh     1.859298  DeCrescent 178kW PV  United States   \n",
       "373   3/9/2024  198.313kWh     1.762782  DeCrescent 178kW PV  United States   \n",
       "374   3/8/2024  701.856kWh      6.23872  DeCrescent 178kW PV  United States   \n",
       "375   3/7/2024  282.632kWh     2.512284  DeCrescent 178kW PV  United States   \n",
       "376   3/6/2024  133.699kWh     1.188436  DeCrescent 178kW PV  United States   \n",
       "\n",
       "     Unnamed: 2  \n",
       "0           NaN  \n",
       "1           NaN  \n",
       "2           NaN  \n",
       "3           NaN  \n",
       "4           NaN  \n",
       "..          ...  \n",
       "372         NaN  \n",
       "373         NaN  \n",
       "374         NaN  \n",
       "375         NaN  \n",
       "376         NaN  \n",
       "\n",
       "[377 rows x 6 columns]"
      ]
     },
     "execution_count": 11,
     "metadata": {},
     "output_type": "execute_result"
    }
   ],
   "source": [
    "master_df"
   ]
  },
  {
   "cell_type": "code",
   "execution_count": 45,
   "id": "a628cda5-d5b7-4954-9ea7-5e726b8e7687",
   "metadata": {},
   "outputs": [],
   "source": [
    "master_df[\"System Size (kW)\"] = 112.5"
   ]
  },
  {
   "cell_type": "code",
   "execution_count": 47,
   "id": "c00d93ea-dd22-4d78-9156-678e931ad951",
   "metadata": {},
   "outputs": [],
   "source": [
    "master_df.to_csv(\"daily_DeCrescent_master.csv\", index=False)"
   ]
  },
  {
   "cell_type": "code",
   "execution_count": null,
   "id": "a76f8313-209b-49cc-bd4a-822825f3521d",
   "metadata": {},
   "outputs": [],
   "source": []
  }
 ],
 "metadata": {
  "kernelspec": {
   "display_name": "Python [conda env:base] *",
   "language": "python",
   "name": "conda-base-py"
  },
  "language_info": {
   "codemirror_mode": {
    "name": "ipython",
    "version": 3
   },
   "file_extension": ".py",
   "mimetype": "text/x-python",
   "name": "python",
   "nbconvert_exporter": "python",
   "pygments_lexer": "ipython3",
   "version": "3.12.7"
  }
 },
 "nbformat": 4,
 "nbformat_minor": 5
}
