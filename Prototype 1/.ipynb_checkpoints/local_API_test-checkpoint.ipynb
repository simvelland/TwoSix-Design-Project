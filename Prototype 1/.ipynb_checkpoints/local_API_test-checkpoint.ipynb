{
 "cells": [
  {
   "cell_type": "code",
   "execution_count": 1,
   "id": "59ed4df3-2b67-42c3-aa56-f916ab9ba3dd",
   "metadata": {},
   "outputs": [],
   "source": [
    "import requests"
   ]
  },
  {
   "cell_type": "code",
   "execution_count": 3,
   "id": "8cd80449-edeb-4e57-9e44-aafe8de01f5d",
   "metadata": {},
   "outputs": [],
   "source": [
    "url = \"http://127.0.0.1:8000/predict/\""
   ]
  },
  {
   "cell_type": "code",
   "execution_count": 5,
   "id": "8e1d05b0-cbd2-46af-87e7-890bbb68dc50",
   "metadata": {},
   "outputs": [
    {
     "name": "stdout",
     "output_type": "stream",
     "text": [
      "{'predicted_daily_solar_power': 16.443322532805702}\n"
     ]
    }
   ],
   "source": [
    "data = {\n",
    "    \"Solar_Irradiance\": 4.5,\n",
    "    \"Temperature_2m\": 26,\n",
    "    \"Relative_Humidity_2m\": 60,\n",
    "    \"Wind_Speed_2M\": 5,\n",
    "    \"Surface_Pressure\": 1015,\n",
    "    \"Cloud_Amount\": 20\n",
    "}\n",
    "\n",
    "response = requests.post(url, json=data)\n",
    "print(response.json())"
   ]
  },
  {
   "cell_type": "code",
   "execution_count": null,
   "id": "befcc2eb-d3b5-49c4-a8b6-13b9ebb6a879",
   "metadata": {},
   "outputs": [],
   "source": []
  }
 ],
 "metadata": {
  "kernelspec": {
   "display_name": "Python [conda env:base] *",
   "language": "python",
   "name": "conda-base-py"
  },
  "language_info": {
   "codemirror_mode": {
    "name": "ipython",
    "version": 3
   },
   "file_extension": ".py",
   "mimetype": "text/x-python",
   "name": "python",
   "nbconvert_exporter": "python",
   "pygments_lexer": "ipython3",
   "version": "3.12.7"
  }
 },
 "nbformat": 4,
 "nbformat_minor": 5
}
