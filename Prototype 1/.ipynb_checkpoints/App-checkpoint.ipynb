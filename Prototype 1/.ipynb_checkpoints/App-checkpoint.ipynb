{
 "cells": [
  {
   "cell_type": "code",
   "execution_count": 3,
   "id": "bc326ca2-3122-40e6-b278-3528c10fddb3",
   "metadata": {},
   "outputs": [],
   "source": [
    "from fastapi import FastAPI"
   ]
  },
  {
   "cell_type": "code",
   "execution_count": 5,
   "id": "94968a4b-9c8e-4abd-a141-7876a644840e",
   "metadata": {},
   "outputs": [],
   "source": [
    "import joblib\n",
    "import numpy as np\n",
    "import pandas as pd"
   ]
  },
  {
   "cell_type": "code",
   "execution_count": 7,
   "id": "a0a1053c-a724-413f-ae15-0983c303078a",
   "metadata": {},
   "outputs": [],
   "source": [
    "model = joblib.load('trained_gbr_model.pkl')"
   ]
  },
  {
   "cell_type": "code",
   "execution_count": 9,
   "id": "34d24122-f1d0-49b0-8c3a-409dd4243902",
   "metadata": {},
   "outputs": [],
   "source": [
    "app = FastAPI()"
   ]
  },
  {
   "cell_type": "code",
   "execution_count": null,
   "id": "4472d145-3314-4ce4-b247-e4ad0b4e0b84",
   "metadata": {},
   "outputs": [],
   "source": [
    "@app.post(\"/predict/\")\n",
    "def predict(data: dict):\n",
    "    try:\n",
    "        features = np.array([[\n",
    "            data[\"Solar_Irradiance\"], \n",
    "            data[\"Temperature_2m\"],\n",
    "            data[\"Relative_Humidity_2m\"],\n",
    "            data[\"Wind_Speed_2M\"],\n",
    "            data[\"Surface_Pressure\"],\n",
    "            data[\"Cloud_Amount\"]\n",
    "        ]])\n",
    "\n",
    "        prediction = model.predict(features)[0]\n",
    "\n",
    "        return {\"predicted_daily_solar_power\": prediction}\n",
    "\n",
    "    except Exception as e:\n",
    "        return {\"error\": str(e)}"
   ]
  }
 ],
 "metadata": {
  "kernelspec": {
   "display_name": "Python [conda env:base] *",
   "language": "python",
   "name": "conda-base-py"
  },
  "language_info": {
   "codemirror_mode": {
    "name": "ipython",
    "version": 3
   },
   "file_extension": ".py",
   "mimetype": "text/x-python",
   "name": "python",
   "nbconvert_exporter": "python",
   "pygments_lexer": "ipython3",
   "version": "3.12.7"
  }
 },
 "nbformat": 4,
 "nbformat_minor": 5
}
